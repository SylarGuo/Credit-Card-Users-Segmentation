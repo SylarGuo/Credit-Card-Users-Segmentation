{
  "nbformat": 4,
  "nbformat_minor": 0,
  "metadata": {
    "colab": {
      "name": "EDA_Antonio.ipynb",
      "provenance": []
    },
    "kernelspec": {
      "name": "python3",
      "display_name": "Python 3"
    }
  },
  "cells": [
    {
      "cell_type": "code",
      "metadata": {
        "colab": {
          "base_uri": "https://localhost:8080/"
        },
        "id": "fcFTJItRLhn0",
        "outputId": "bcf49ba6-70a3-4cd4-d58d-aa89bf595c58"
      },
      "source": [
        "\r\n",
        "! pip install scikit-plot\r\n",
        "# imports\r\n",
        "import numpy as np\r\n",
        "import pandas as pd\r\n",
        "import seaborn as sns\r\n",
        "import matplotlib.pyplot as plt\r\n",
        "from matplotlib import cm\r\n",
        "import scikitplot as skplt\r\n",
        "\r\n",
        "# scipy\r\n",
        "from scipy.spatial.distance import pdist\r\n",
        "from scipy.cluster.hierarchy import linkage, dendrogram\r\n",
        "from scipy.cluster.hierarchy import fcluster\r\n",
        "\r\n",
        "# scikit\r\n",
        "\r\n",
        "from sklearn.decomposition import PCA\r\n",
        "from sklearn.preprocessing import MinMaxScaler, StandardScaler\r\n",
        "from sklearn.manifold import MDS\r\n",
        "from sklearn.manifold import TSNE\r\n",
        "from sklearn import metrics\r\n",
        "from sklearn.cluster import KMeans, DBSCAN\r\n",
        "from sklearn.neighbors import NearestNeighbors"
      ],
      "execution_count": 1,
      "outputs": [
        {
          "output_type": "stream",
          "text": [
            "Collecting scikit-plot\n",
            "  Downloading https://files.pythonhosted.org/packages/7c/47/32520e259340c140a4ad27c1b97050dd3254fdc517b1d59974d47037510e/scikit_plot-0.3.7-py3-none-any.whl\n",
            "Requirement already satisfied: scipy>=0.9 in /usr/local/lib/python3.7/dist-packages (from scikit-plot) (1.4.1)\n",
            "Requirement already satisfied: matplotlib>=1.4.0 in /usr/local/lib/python3.7/dist-packages (from scikit-plot) (3.2.2)\n",
            "Requirement already satisfied: joblib>=0.10 in /usr/local/lib/python3.7/dist-packages (from scikit-plot) (1.0.1)\n",
            "Requirement already satisfied: scikit-learn>=0.18 in /usr/local/lib/python3.7/dist-packages (from scikit-plot) (0.22.2.post1)\n",
            "Requirement already satisfied: numpy>=1.13.3 in /usr/local/lib/python3.7/dist-packages (from scipy>=0.9->scikit-plot) (1.19.5)\n",
            "Requirement already satisfied: kiwisolver>=1.0.1 in /usr/local/lib/python3.7/dist-packages (from matplotlib>=1.4.0->scikit-plot) (1.3.1)\n",
            "Requirement already satisfied: pyparsing!=2.0.4,!=2.1.2,!=2.1.6,>=2.0.1 in /usr/local/lib/python3.7/dist-packages (from matplotlib>=1.4.0->scikit-plot) (2.4.7)\n",
            "Requirement already satisfied: python-dateutil>=2.1 in /usr/local/lib/python3.7/dist-packages (from matplotlib>=1.4.0->scikit-plot) (2.8.1)\n",
            "Requirement already satisfied: cycler>=0.10 in /usr/local/lib/python3.7/dist-packages (from matplotlib>=1.4.0->scikit-plot) (0.10.0)\n",
            "Requirement already satisfied: six>=1.5 in /usr/local/lib/python3.7/dist-packages (from python-dateutil>=2.1->matplotlib>=1.4.0->scikit-plot) (1.15.0)\n",
            "Installing collected packages: scikit-plot\n",
            "Successfully installed scikit-plot-0.3.7\n"
          ],
          "name": "stdout"
        }
      ]
    },
    {
      "cell_type": "code",
      "metadata": {
        "id": "hAy1FsmRLx_B"
      },
      "source": [
        "data = pd.read_csv(\"CC GENERAL.csv\")"
      ],
      "execution_count": 2,
      "outputs": []
    },
    {
      "cell_type": "code",
      "metadata": {
        "id": "MBUZ3MEPLx8V"
      },
      "source": [
        "val = data.loc[((data['MINIMUM_PAYMENTS'].isnull())&(data['PAYMENTS']==0))].index"
      ],
      "execution_count": 3,
      "outputs": []
    },
    {
      "cell_type": "code",
      "metadata": {
        "colab": {
          "base_uri": "https://localhost:8080/",
          "height": 131
        },
        "id": "ssk79xNpP8ph",
        "outputId": "c906a804-0715-4f0b-c09f-732a295730f1"
      },
      "source": [
        "dfd = data.copy()\r\n",
        "dfd.head(2)"
      ],
      "execution_count": 4,
      "outputs": [
        {
          "output_type": "execute_result",
          "data": {
            "text/html": [
              "<div>\n",
              "<style scoped>\n",
              "    .dataframe tbody tr th:only-of-type {\n",
              "        vertical-align: middle;\n",
              "    }\n",
              "\n",
              "    .dataframe tbody tr th {\n",
              "        vertical-align: top;\n",
              "    }\n",
              "\n",
              "    .dataframe thead th {\n",
              "        text-align: right;\n",
              "    }\n",
              "</style>\n",
              "<table border=\"1\" class=\"dataframe\">\n",
              "  <thead>\n",
              "    <tr style=\"text-align: right;\">\n",
              "      <th></th>\n",
              "      <th>CUST_ID</th>\n",
              "      <th>BALANCE</th>\n",
              "      <th>BALANCE_FREQUENCY</th>\n",
              "      <th>PURCHASES</th>\n",
              "      <th>ONEOFF_PURCHASES</th>\n",
              "      <th>INSTALLMENTS_PURCHASES</th>\n",
              "      <th>CASH_ADVANCE</th>\n",
              "      <th>PURCHASES_FREQUENCY</th>\n",
              "      <th>ONEOFF_PURCHASES_FREQUENCY</th>\n",
              "      <th>PURCHASES_INSTALLMENTS_FREQUENCY</th>\n",
              "      <th>CASH_ADVANCE_FREQUENCY</th>\n",
              "      <th>CASH_ADVANCE_TRX</th>\n",
              "      <th>PURCHASES_TRX</th>\n",
              "      <th>CREDIT_LIMIT</th>\n",
              "      <th>PAYMENTS</th>\n",
              "      <th>MINIMUM_PAYMENTS</th>\n",
              "      <th>PRC_FULL_PAYMENT</th>\n",
              "      <th>TENURE</th>\n",
              "    </tr>\n",
              "  </thead>\n",
              "  <tbody>\n",
              "    <tr>\n",
              "      <th>0</th>\n",
              "      <td>C10001</td>\n",
              "      <td>40.900749</td>\n",
              "      <td>0.818182</td>\n",
              "      <td>95.4</td>\n",
              "      <td>0.0</td>\n",
              "      <td>95.4</td>\n",
              "      <td>0.000000</td>\n",
              "      <td>0.166667</td>\n",
              "      <td>0.0</td>\n",
              "      <td>0.083333</td>\n",
              "      <td>0.00</td>\n",
              "      <td>0</td>\n",
              "      <td>2</td>\n",
              "      <td>1000.0</td>\n",
              "      <td>201.802084</td>\n",
              "      <td>139.509787</td>\n",
              "      <td>0.000000</td>\n",
              "      <td>12</td>\n",
              "    </tr>\n",
              "    <tr>\n",
              "      <th>1</th>\n",
              "      <td>C10002</td>\n",
              "      <td>3202.467416</td>\n",
              "      <td>0.909091</td>\n",
              "      <td>0.0</td>\n",
              "      <td>0.0</td>\n",
              "      <td>0.0</td>\n",
              "      <td>6442.945483</td>\n",
              "      <td>0.000000</td>\n",
              "      <td>0.0</td>\n",
              "      <td>0.000000</td>\n",
              "      <td>0.25</td>\n",
              "      <td>4</td>\n",
              "      <td>0</td>\n",
              "      <td>7000.0</td>\n",
              "      <td>4103.032597</td>\n",
              "      <td>1072.340217</td>\n",
              "      <td>0.222222</td>\n",
              "      <td>12</td>\n",
              "    </tr>\n",
              "  </tbody>\n",
              "</table>\n",
              "</div>"
            ],
            "text/plain": [
              "  CUST_ID      BALANCE  ...  PRC_FULL_PAYMENT  TENURE\n",
              "0  C10001    40.900749  ...          0.000000      12\n",
              "1  C10002  3202.467416  ...          0.222222      12\n",
              "\n",
              "[2 rows x 18 columns]"
            ]
          },
          "metadata": {
            "tags": []
          },
          "execution_count": 4
        }
      ]
    },
    {
      "cell_type": "code",
      "metadata": {
        "colab": {
          "base_uri": "https://localhost:8080/"
        },
        "id": "31JkK3dhNhqz",
        "outputId": "60ccacf0-6087-4669-c466-47beafad91f0"
      },
      "source": [
        "#for values with 0 payments, set minimum payments as 0. \r\n",
        "for i in val:\r\n",
        "  data.iloc[i,15] = 0\r\n",
        "\r\n",
        "data.info()"
      ],
      "execution_count": 5,
      "outputs": [
        {
          "output_type": "stream",
          "text": [
            "<class 'pandas.core.frame.DataFrame'>\n",
            "RangeIndex: 8950 entries, 0 to 8949\n",
            "Data columns (total 18 columns):\n",
            " #   Column                            Non-Null Count  Dtype  \n",
            "---  ------                            --------------  -----  \n",
            " 0   CUST_ID                           8950 non-null   object \n",
            " 1   BALANCE                           8950 non-null   float64\n",
            " 2   BALANCE_FREQUENCY                 8950 non-null   float64\n",
            " 3   PURCHASES                         8950 non-null   float64\n",
            " 4   ONEOFF_PURCHASES                  8950 non-null   float64\n",
            " 5   INSTALLMENTS_PURCHASES            8950 non-null   float64\n",
            " 6   CASH_ADVANCE                      8950 non-null   float64\n",
            " 7   PURCHASES_FREQUENCY               8950 non-null   float64\n",
            " 8   ONEOFF_PURCHASES_FREQUENCY        8950 non-null   float64\n",
            " 9   PURCHASES_INSTALLMENTS_FREQUENCY  8950 non-null   float64\n",
            " 10  CASH_ADVANCE_FREQUENCY            8950 non-null   float64\n",
            " 11  CASH_ADVANCE_TRX                  8950 non-null   int64  \n",
            " 12  PURCHASES_TRX                     8950 non-null   int64  \n",
            " 13  CREDIT_LIMIT                      8949 non-null   float64\n",
            " 14  PAYMENTS                          8950 non-null   float64\n",
            " 15  MINIMUM_PAYMENTS                  8877 non-null   float64\n",
            " 16  PRC_FULL_PAYMENT                  8950 non-null   float64\n",
            " 17  TENURE                            8950 non-null   int64  \n",
            "dtypes: float64(14), int64(3), object(1)\n",
            "memory usage: 1.2+ MB\n"
          ],
          "name": "stdout"
        }
      ]
    },
    {
      "cell_type": "code",
      "metadata": {
        "colab": {
          "base_uri": "https://localhost:8080/",
          "height": 439
        },
        "id": "qECnC5GfTYh8",
        "outputId": "6aff50be-fd5f-441c-c819-5dfc69a9f0b0"
      },
      "source": [
        "data.loc[((data['MINIMUM_PAYMENTS'].isnull()))]"
      ],
      "execution_count": 6,
      "outputs": [
        {
          "output_type": "execute_result",
          "data": {
            "text/html": [
              "<div>\n",
              "<style scoped>\n",
              "    .dataframe tbody tr th:only-of-type {\n",
              "        vertical-align: middle;\n",
              "    }\n",
              "\n",
              "    .dataframe tbody tr th {\n",
              "        vertical-align: top;\n",
              "    }\n",
              "\n",
              "    .dataframe thead th {\n",
              "        text-align: right;\n",
              "    }\n",
              "</style>\n",
              "<table border=\"1\" class=\"dataframe\">\n",
              "  <thead>\n",
              "    <tr style=\"text-align: right;\">\n",
              "      <th></th>\n",
              "      <th>CUST_ID</th>\n",
              "      <th>BALANCE</th>\n",
              "      <th>BALANCE_FREQUENCY</th>\n",
              "      <th>PURCHASES</th>\n",
              "      <th>ONEOFF_PURCHASES</th>\n",
              "      <th>INSTALLMENTS_PURCHASES</th>\n",
              "      <th>CASH_ADVANCE</th>\n",
              "      <th>PURCHASES_FREQUENCY</th>\n",
              "      <th>ONEOFF_PURCHASES_FREQUENCY</th>\n",
              "      <th>PURCHASES_INSTALLMENTS_FREQUENCY</th>\n",
              "      <th>CASH_ADVANCE_FREQUENCY</th>\n",
              "      <th>CASH_ADVANCE_TRX</th>\n",
              "      <th>PURCHASES_TRX</th>\n",
              "      <th>CREDIT_LIMIT</th>\n",
              "      <th>PAYMENTS</th>\n",
              "      <th>MINIMUM_PAYMENTS</th>\n",
              "      <th>PRC_FULL_PAYMENT</th>\n",
              "      <th>TENURE</th>\n",
              "    </tr>\n",
              "  </thead>\n",
              "  <tbody>\n",
              "    <tr>\n",
              "      <th>54</th>\n",
              "      <td>C10056</td>\n",
              "      <td>6.660517</td>\n",
              "      <td>0.636364</td>\n",
              "      <td>310.00</td>\n",
              "      <td>0.00</td>\n",
              "      <td>310.00</td>\n",
              "      <td>0.000000</td>\n",
              "      <td>0.666667</td>\n",
              "      <td>0.000000</td>\n",
              "      <td>0.666667</td>\n",
              "      <td>0.000000</td>\n",
              "      <td>0</td>\n",
              "      <td>8</td>\n",
              "      <td>1000.0</td>\n",
              "      <td>417.016763</td>\n",
              "      <td>NaN</td>\n",
              "      <td>0.0</td>\n",
              "      <td>12</td>\n",
              "    </tr>\n",
              "    <tr>\n",
              "      <th>99</th>\n",
              "      <td>C10104</td>\n",
              "      <td>0.000000</td>\n",
              "      <td>0.000000</td>\n",
              "      <td>0.00</td>\n",
              "      <td>0.00</td>\n",
              "      <td>0.00</td>\n",
              "      <td>89.849004</td>\n",
              "      <td>0.000000</td>\n",
              "      <td>0.000000</td>\n",
              "      <td>0.000000</td>\n",
              "      <td>0.142857</td>\n",
              "      <td>1</td>\n",
              "      <td>0</td>\n",
              "      <td>3000.0</td>\n",
              "      <td>138.021428</td>\n",
              "      <td>NaN</td>\n",
              "      <td>0.0</td>\n",
              "      <td>7</td>\n",
              "    </tr>\n",
              "    <tr>\n",
              "      <th>146</th>\n",
              "      <td>C10152</td>\n",
              "      <td>19.354559</td>\n",
              "      <td>0.909091</td>\n",
              "      <td>689.70</td>\n",
              "      <td>0.00</td>\n",
              "      <td>689.70</td>\n",
              "      <td>0.000000</td>\n",
              "      <td>0.833333</td>\n",
              "      <td>0.000000</td>\n",
              "      <td>0.833333</td>\n",
              "      <td>0.000000</td>\n",
              "      <td>0</td>\n",
              "      <td>10</td>\n",
              "      <td>10000.0</td>\n",
              "      <td>746.691026</td>\n",
              "      <td>NaN</td>\n",
              "      <td>0.0</td>\n",
              "      <td>12</td>\n",
              "    </tr>\n",
              "    <tr>\n",
              "      <th>319</th>\n",
              "      <td>C10330</td>\n",
              "      <td>0.478714</td>\n",
              "      <td>0.090909</td>\n",
              "      <td>734.97</td>\n",
              "      <td>159.00</td>\n",
              "      <td>575.97</td>\n",
              "      <td>0.000000</td>\n",
              "      <td>0.833333</td>\n",
              "      <td>0.083333</td>\n",
              "      <td>0.750000</td>\n",
              "      <td>0.000000</td>\n",
              "      <td>0</td>\n",
              "      <td>16</td>\n",
              "      <td>6000.0</td>\n",
              "      <td>1159.135064</td>\n",
              "      <td>NaN</td>\n",
              "      <td>0.0</td>\n",
              "      <td>12</td>\n",
              "    </tr>\n",
              "    <tr>\n",
              "      <th>1155</th>\n",
              "      <td>C11198</td>\n",
              "      <td>34.207779</td>\n",
              "      <td>0.090909</td>\n",
              "      <td>2483.26</td>\n",
              "      <td>2483.26</td>\n",
              "      <td>0.00</td>\n",
              "      <td>0.000000</td>\n",
              "      <td>0.083333</td>\n",
              "      <td>0.083333</td>\n",
              "      <td>0.000000</td>\n",
              "      <td>0.000000</td>\n",
              "      <td>0</td>\n",
              "      <td>1</td>\n",
              "      <td>10000.0</td>\n",
              "      <td>29272.486070</td>\n",
              "      <td>NaN</td>\n",
              "      <td>0.0</td>\n",
              "      <td>12</td>\n",
              "    </tr>\n",
              "    <tr>\n",
              "      <th>...</th>\n",
              "      <td>...</td>\n",
              "      <td>...</td>\n",
              "      <td>...</td>\n",
              "      <td>...</td>\n",
              "      <td>...</td>\n",
              "      <td>...</td>\n",
              "      <td>...</td>\n",
              "      <td>...</td>\n",
              "      <td>...</td>\n",
              "      <td>...</td>\n",
              "      <td>...</td>\n",
              "      <td>...</td>\n",
              "      <td>...</td>\n",
              "      <td>...</td>\n",
              "      <td>...</td>\n",
              "      <td>...</td>\n",
              "      <td>...</td>\n",
              "      <td>...</td>\n",
              "    </tr>\n",
              "    <tr>\n",
              "      <th>8561</th>\n",
              "      <td>C18794</td>\n",
              "      <td>3.229304</td>\n",
              "      <td>0.545455</td>\n",
              "      <td>190.20</td>\n",
              "      <td>0.00</td>\n",
              "      <td>190.20</td>\n",
              "      <td>0.000000</td>\n",
              "      <td>0.666667</td>\n",
              "      <td>0.000000</td>\n",
              "      <td>0.583333</td>\n",
              "      <td>0.000000</td>\n",
              "      <td>0</td>\n",
              "      <td>8</td>\n",
              "      <td>1500.0</td>\n",
              "      <td>295.937124</td>\n",
              "      <td>NaN</td>\n",
              "      <td>0.0</td>\n",
              "      <td>12</td>\n",
              "    </tr>\n",
              "    <tr>\n",
              "      <th>8593</th>\n",
              "      <td>C18827</td>\n",
              "      <td>16.887571</td>\n",
              "      <td>0.363636</td>\n",
              "      <td>1083.00</td>\n",
              "      <td>1083.00</td>\n",
              "      <td>0.00</td>\n",
              "      <td>0.000000</td>\n",
              "      <td>0.250000</td>\n",
              "      <td>0.250000</td>\n",
              "      <td>0.000000</td>\n",
              "      <td>0.000000</td>\n",
              "      <td>0</td>\n",
              "      <td>3</td>\n",
              "      <td>1200.0</td>\n",
              "      <td>3905.430817</td>\n",
              "      <td>NaN</td>\n",
              "      <td>0.0</td>\n",
              "      <td>12</td>\n",
              "    </tr>\n",
              "    <tr>\n",
              "      <th>8647</th>\n",
              "      <td>C18882</td>\n",
              "      <td>0.006651</td>\n",
              "      <td>0.142857</td>\n",
              "      <td>0.00</td>\n",
              "      <td>0.00</td>\n",
              "      <td>0.00</td>\n",
              "      <td>164.137866</td>\n",
              "      <td>0.000000</td>\n",
              "      <td>0.000000</td>\n",
              "      <td>0.000000</td>\n",
              "      <td>0.142857</td>\n",
              "      <td>1</td>\n",
              "      <td>0</td>\n",
              "      <td>1200.0</td>\n",
              "      <td>5.070726</td>\n",
              "      <td>NaN</td>\n",
              "      <td>0.0</td>\n",
              "      <td>7</td>\n",
              "    </tr>\n",
              "    <tr>\n",
              "      <th>8753</th>\n",
              "      <td>C18992</td>\n",
              "      <td>0.223351</td>\n",
              "      <td>0.090909</td>\n",
              "      <td>336.00</td>\n",
              "      <td>0.00</td>\n",
              "      <td>336.00</td>\n",
              "      <td>0.000000</td>\n",
              "      <td>1.000000</td>\n",
              "      <td>0.000000</td>\n",
              "      <td>0.916667</td>\n",
              "      <td>0.000000</td>\n",
              "      <td>0</td>\n",
              "      <td>12</td>\n",
              "      <td>1000.0</td>\n",
              "      <td>578.819329</td>\n",
              "      <td>NaN</td>\n",
              "      <td>0.0</td>\n",
              "      <td>12</td>\n",
              "    </tr>\n",
              "    <tr>\n",
              "      <th>8946</th>\n",
              "      <td>C19187</td>\n",
              "      <td>19.183215</td>\n",
              "      <td>1.000000</td>\n",
              "      <td>300.00</td>\n",
              "      <td>0.00</td>\n",
              "      <td>300.00</td>\n",
              "      <td>0.000000</td>\n",
              "      <td>1.000000</td>\n",
              "      <td>0.000000</td>\n",
              "      <td>0.833333</td>\n",
              "      <td>0.000000</td>\n",
              "      <td>0</td>\n",
              "      <td>6</td>\n",
              "      <td>1000.0</td>\n",
              "      <td>275.861322</td>\n",
              "      <td>NaN</td>\n",
              "      <td>0.0</td>\n",
              "      <td>6</td>\n",
              "    </tr>\n",
              "  </tbody>\n",
              "</table>\n",
              "<p>73 rows × 18 columns</p>\n",
              "</div>"
            ],
            "text/plain": [
              "     CUST_ID    BALANCE  ...  PRC_FULL_PAYMENT  TENURE\n",
              "54    C10056   6.660517  ...               0.0      12\n",
              "99    C10104   0.000000  ...               0.0       7\n",
              "146   C10152  19.354559  ...               0.0      12\n",
              "319   C10330   0.478714  ...               0.0      12\n",
              "1155  C11198  34.207779  ...               0.0      12\n",
              "...      ...        ...  ...               ...     ...\n",
              "8561  C18794   3.229304  ...               0.0      12\n",
              "8593  C18827  16.887571  ...               0.0      12\n",
              "8647  C18882   0.006651  ...               0.0       7\n",
              "8753  C18992   0.223351  ...               0.0      12\n",
              "8946  C19187  19.183215  ...               0.0       6\n",
              "\n",
              "[73 rows x 18 columns]"
            ]
          },
          "metadata": {
            "tags": []
          },
          "execution_count": 6
        }
      ]
    },
    {
      "cell_type": "code",
      "metadata": {
        "id": "I7U51xkvLx4K"
      },
      "source": [
        "#set the remaining missing values based on the median proportion of minimum payments to payments\r\n",
        "mean_prop = data['MINIMUM_PAYMENTS']/data['PAYMENTS']\r\n",
        "mean_prop = mean_prop.median()\r\n",
        "data.fillna(value={'MINIMUM_PAYMENTS':mean_prop*data['PAYMENTS']},inplace=True)"
      ],
      "execution_count": 7,
      "outputs": []
    },
    {
      "cell_type": "code",
      "metadata": {
        "colab": {
          "base_uri": "https://localhost:8080/"
        },
        "id": "KFHZL1NvWUeM",
        "outputId": "fbc9cd8b-161d-40f3-fb97-58d360132f7a"
      },
      "source": [
        "data['MINIMUM_PAYMENTS']/data['PAYMENTS']"
      ],
      "execution_count": 8,
      "outputs": [
        {
          "output_type": "execute_result",
          "data": {
            "text/plain": [
              "0       0.691320\n",
              "1       0.261353\n",
              "2       1.008388\n",
              "3            NaN\n",
              "4       0.360871\n",
              "          ...   \n",
              "8945    0.150145\n",
              "8946    0.460724\n",
              "8947    1.014121\n",
              "8948    1.061002\n",
              "8949    1.397742\n",
              "Length: 8950, dtype: float64"
            ]
          },
          "metadata": {
            "tags": []
          },
          "execution_count": 8
        }
      ]
    },
    {
      "cell_type": "code",
      "metadata": {
        "colab": {
          "base_uri": "https://localhost:8080/"
        },
        "id": "mNmI_XKPLx1s",
        "outputId": "0cbfffbc-6ea6-43a1-ac87-e201b9c1fb66"
      },
      "source": [
        "data.info()"
      ],
      "execution_count": 16,
      "outputs": [
        {
          "output_type": "stream",
          "text": [
            "<class 'pandas.core.frame.DataFrame'>\n",
            "Int64Index: 8949 entries, 0 to 8949\n",
            "Data columns (total 17 columns):\n",
            " #   Column                            Non-Null Count  Dtype  \n",
            "---  ------                            --------------  -----  \n",
            " 0   BALANCE                           8949 non-null   float64\n",
            " 1   BALANCE_FREQUENCY                 8949 non-null   float64\n",
            " 2   PURCHASES                         8949 non-null   float64\n",
            " 3   ONEOFF_PURCHASES                  8949 non-null   float64\n",
            " 4   INSTALLMENTS_PURCHASES            8949 non-null   float64\n",
            " 5   CASH_ADVANCE                      8949 non-null   float64\n",
            " 6   PURCHASES_FREQUENCY               8949 non-null   float64\n",
            " 7   ONEOFF_PURCHASES_FREQUENCY        8949 non-null   float64\n",
            " 8   PURCHASES_INSTALLMENTS_FREQUENCY  8949 non-null   float64\n",
            " 9   CASH_ADVANCE_FREQUENCY            8949 non-null   float64\n",
            " 10  CASH_ADVANCE_TRX                  8949 non-null   int64  \n",
            " 11  PURCHASES_TRX                     8949 non-null   int64  \n",
            " 12  CREDIT_LIMIT                      8949 non-null   float64\n",
            " 13  PAYMENTS                          8949 non-null   float64\n",
            " 14  MINIMUM_PAYMENTS                  8949 non-null   float64\n",
            " 15  PRC_FULL_PAYMENT                  8949 non-null   float64\n",
            " 16  TENURE                            8949 non-null   int64  \n",
            "dtypes: float64(14), int64(3)\n",
            "memory usage: 1.2 MB\n"
          ],
          "name": "stdout"
        }
      ]
    },
    {
      "cell_type": "code",
      "metadata": {
        "id": "awOQ0gF-Lxyb"
      },
      "source": [
        "\r\n",
        "data.dropna(subset=['CREDIT_LIMIT'], inplace=True)"
      ],
      "execution_count": 10,
      "outputs": []
    },
    {
      "cell_type": "code",
      "metadata": {
        "id": "vwo0lQJqLxnm"
      },
      "source": [
        "data.drop(['CUST_ID'], axis=1, inplace=True)"
      ],
      "execution_count": 13,
      "outputs": []
    },
    {
      "cell_type": "code",
      "metadata": {
        "colab": {
          "base_uri": "https://localhost:8080/",
          "height": 576
        },
        "id": "EyVxptj1pXHt",
        "outputId": "c7d4d6c5-9af9-4008-ee31-a0c5064c079b"
      },
      "source": [
        "data.describe().T"
      ],
      "execution_count": 15,
      "outputs": [
        {
          "output_type": "execute_result",
          "data": {
            "text/html": [
              "<div>\n",
              "<style scoped>\n",
              "    .dataframe tbody tr th:only-of-type {\n",
              "        vertical-align: middle;\n",
              "    }\n",
              "\n",
              "    .dataframe tbody tr th {\n",
              "        vertical-align: top;\n",
              "    }\n",
              "\n",
              "    .dataframe thead th {\n",
              "        text-align: right;\n",
              "    }\n",
              "</style>\n",
              "<table border=\"1\" class=\"dataframe\">\n",
              "  <thead>\n",
              "    <tr style=\"text-align: right;\">\n",
              "      <th></th>\n",
              "      <th>count</th>\n",
              "      <th>mean</th>\n",
              "      <th>std</th>\n",
              "      <th>min</th>\n",
              "      <th>25%</th>\n",
              "      <th>50%</th>\n",
              "      <th>75%</th>\n",
              "      <th>max</th>\n",
              "    </tr>\n",
              "  </thead>\n",
              "  <tbody>\n",
              "    <tr>\n",
              "      <th>BALANCE</th>\n",
              "      <td>8949.0</td>\n",
              "      <td>1564.647593</td>\n",
              "      <td>2081.584016</td>\n",
              "      <td>0.0</td>\n",
              "      <td>128.365782</td>\n",
              "      <td>873.680279</td>\n",
              "      <td>2054.372848</td>\n",
              "      <td>19043.13856</td>\n",
              "    </tr>\n",
              "    <tr>\n",
              "      <th>BALANCE_FREQUENCY</th>\n",
              "      <td>8949.0</td>\n",
              "      <td>0.877350</td>\n",
              "      <td>0.236798</td>\n",
              "      <td>0.0</td>\n",
              "      <td>0.888889</td>\n",
              "      <td>1.000000</td>\n",
              "      <td>1.000000</td>\n",
              "      <td>1.00000</td>\n",
              "    </tr>\n",
              "    <tr>\n",
              "      <th>PURCHASES</th>\n",
              "      <td>8949.0</td>\n",
              "      <td>1003.316936</td>\n",
              "      <td>2136.727848</td>\n",
              "      <td>0.0</td>\n",
              "      <td>39.800000</td>\n",
              "      <td>361.490000</td>\n",
              "      <td>1110.170000</td>\n",
              "      <td>49039.57000</td>\n",
              "    </tr>\n",
              "    <tr>\n",
              "      <th>ONEOFF_PURCHASES</th>\n",
              "      <td>8949.0</td>\n",
              "      <td>592.503572</td>\n",
              "      <td>1659.968851</td>\n",
              "      <td>0.0</td>\n",
              "      <td>0.000000</td>\n",
              "      <td>38.000000</td>\n",
              "      <td>577.830000</td>\n",
              "      <td>40761.25000</td>\n",
              "    </tr>\n",
              "    <tr>\n",
              "      <th>INSTALLMENTS_PURCHASES</th>\n",
              "      <td>8949.0</td>\n",
              "      <td>411.113579</td>\n",
              "      <td>904.378205</td>\n",
              "      <td>0.0</td>\n",
              "      <td>0.000000</td>\n",
              "      <td>89.000000</td>\n",
              "      <td>468.650000</td>\n",
              "      <td>22500.00000</td>\n",
              "    </tr>\n",
              "    <tr>\n",
              "      <th>CASH_ADVANCE</th>\n",
              "      <td>8949.0</td>\n",
              "      <td>978.959616</td>\n",
              "      <td>2097.264344</td>\n",
              "      <td>0.0</td>\n",
              "      <td>0.000000</td>\n",
              "      <td>0.000000</td>\n",
              "      <td>1113.868654</td>\n",
              "      <td>47137.21176</td>\n",
              "    </tr>\n",
              "    <tr>\n",
              "      <th>PURCHASES_FREQUENCY</th>\n",
              "      <td>8949.0</td>\n",
              "      <td>0.490405</td>\n",
              "      <td>0.401360</td>\n",
              "      <td>0.0</td>\n",
              "      <td>0.083333</td>\n",
              "      <td>0.500000</td>\n",
              "      <td>0.916667</td>\n",
              "      <td>1.00000</td>\n",
              "    </tr>\n",
              "    <tr>\n",
              "      <th>ONEOFF_PURCHASES_FREQUENCY</th>\n",
              "      <td>8949.0</td>\n",
              "      <td>0.202480</td>\n",
              "      <td>0.298345</td>\n",
              "      <td>0.0</td>\n",
              "      <td>0.000000</td>\n",
              "      <td>0.083333</td>\n",
              "      <td>0.300000</td>\n",
              "      <td>1.00000</td>\n",
              "    </tr>\n",
              "    <tr>\n",
              "      <th>PURCHASES_INSTALLMENTS_FREQUENCY</th>\n",
              "      <td>8949.0</td>\n",
              "      <td>0.364478</td>\n",
              "      <td>0.397451</td>\n",
              "      <td>0.0</td>\n",
              "      <td>0.000000</td>\n",
              "      <td>0.166667</td>\n",
              "      <td>0.750000</td>\n",
              "      <td>1.00000</td>\n",
              "    </tr>\n",
              "    <tr>\n",
              "      <th>CASH_ADVANCE_FREQUENCY</th>\n",
              "      <td>8949.0</td>\n",
              "      <td>0.135141</td>\n",
              "      <td>0.200132</td>\n",
              "      <td>0.0</td>\n",
              "      <td>0.000000</td>\n",
              "      <td>0.000000</td>\n",
              "      <td>0.222222</td>\n",
              "      <td>1.50000</td>\n",
              "    </tr>\n",
              "    <tr>\n",
              "      <th>CASH_ADVANCE_TRX</th>\n",
              "      <td>8949.0</td>\n",
              "      <td>3.249078</td>\n",
              "      <td>6.824987</td>\n",
              "      <td>0.0</td>\n",
              "      <td>0.000000</td>\n",
              "      <td>0.000000</td>\n",
              "      <td>4.000000</td>\n",
              "      <td>123.00000</td>\n",
              "    </tr>\n",
              "    <tr>\n",
              "      <th>PURCHASES_TRX</th>\n",
              "      <td>8949.0</td>\n",
              "      <td>14.711476</td>\n",
              "      <td>24.858552</td>\n",
              "      <td>0.0</td>\n",
              "      <td>1.000000</td>\n",
              "      <td>7.000000</td>\n",
              "      <td>17.000000</td>\n",
              "      <td>358.00000</td>\n",
              "    </tr>\n",
              "    <tr>\n",
              "      <th>CREDIT_LIMIT</th>\n",
              "      <td>8949.0</td>\n",
              "      <td>4494.449450</td>\n",
              "      <td>3638.815725</td>\n",
              "      <td>50.0</td>\n",
              "      <td>1600.000000</td>\n",
              "      <td>3000.000000</td>\n",
              "      <td>6500.000000</td>\n",
              "      <td>30000.00000</td>\n",
              "    </tr>\n",
              "    <tr>\n",
              "      <th>PAYMENTS</th>\n",
              "      <td>8949.0</td>\n",
              "      <td>1733.336511</td>\n",
              "      <td>2895.168146</td>\n",
              "      <td>0.0</td>\n",
              "      <td>383.282850</td>\n",
              "      <td>857.062706</td>\n",
              "      <td>1901.279320</td>\n",
              "      <td>50721.48336</td>\n",
              "    </tr>\n",
              "    <tr>\n",
              "      <th>MINIMUM_PAYMENTS</th>\n",
              "      <td>8949.0</td>\n",
              "      <td>839.268445</td>\n",
              "      <td>2340.720002</td>\n",
              "      <td>0.0</td>\n",
              "      <td>163.858003</td>\n",
              "      <td>292.755072</td>\n",
              "      <td>792.385386</td>\n",
              "      <td>76406.20752</td>\n",
              "    </tr>\n",
              "    <tr>\n",
              "      <th>PRC_FULL_PAYMENT</th>\n",
              "      <td>8949.0</td>\n",
              "      <td>0.153732</td>\n",
              "      <td>0.292511</td>\n",
              "      <td>0.0</td>\n",
              "      <td>0.000000</td>\n",
              "      <td>0.000000</td>\n",
              "      <td>0.142857</td>\n",
              "      <td>1.00000</td>\n",
              "    </tr>\n",
              "    <tr>\n",
              "      <th>TENURE</th>\n",
              "      <td>8949.0</td>\n",
              "      <td>11.517935</td>\n",
              "      <td>1.337134</td>\n",
              "      <td>6.0</td>\n",
              "      <td>12.000000</td>\n",
              "      <td>12.000000</td>\n",
              "      <td>12.000000</td>\n",
              "      <td>12.00000</td>\n",
              "    </tr>\n",
              "  </tbody>\n",
              "</table>\n",
              "</div>"
            ],
            "text/plain": [
              "                                   count         mean  ...          75%          max\n",
              "BALANCE                           8949.0  1564.647593  ...  2054.372848  19043.13856\n",
              "BALANCE_FREQUENCY                 8949.0     0.877350  ...     1.000000      1.00000\n",
              "PURCHASES                         8949.0  1003.316936  ...  1110.170000  49039.57000\n",
              "ONEOFF_PURCHASES                  8949.0   592.503572  ...   577.830000  40761.25000\n",
              "INSTALLMENTS_PURCHASES            8949.0   411.113579  ...   468.650000  22500.00000\n",
              "CASH_ADVANCE                      8949.0   978.959616  ...  1113.868654  47137.21176\n",
              "PURCHASES_FREQUENCY               8949.0     0.490405  ...     0.916667      1.00000\n",
              "ONEOFF_PURCHASES_FREQUENCY        8949.0     0.202480  ...     0.300000      1.00000\n",
              "PURCHASES_INSTALLMENTS_FREQUENCY  8949.0     0.364478  ...     0.750000      1.00000\n",
              "CASH_ADVANCE_FREQUENCY            8949.0     0.135141  ...     0.222222      1.50000\n",
              "CASH_ADVANCE_TRX                  8949.0     3.249078  ...     4.000000    123.00000\n",
              "PURCHASES_TRX                     8949.0    14.711476  ...    17.000000    358.00000\n",
              "CREDIT_LIMIT                      8949.0  4494.449450  ...  6500.000000  30000.00000\n",
              "PAYMENTS                          8949.0  1733.336511  ...  1901.279320  50721.48336\n",
              "MINIMUM_PAYMENTS                  8949.0   839.268445  ...   792.385386  76406.20752\n",
              "PRC_FULL_PAYMENT                  8949.0     0.153732  ...     0.142857      1.00000\n",
              "TENURE                            8949.0    11.517935  ...    12.000000     12.00000\n",
              "\n",
              "[17 rows x 8 columns]"
            ]
          },
          "metadata": {
            "tags": []
          },
          "execution_count": 15
        }
      ]
    },
    {
      "cell_type": "code",
      "metadata": {
        "id": "qLQthRWypWlD"
      },
      "source": [
        "#scale the data\r\n",
        "sc = StandardScaler()\r\n",
        "scaled_data = sc.fit_transform(data)"
      ],
      "execution_count": 17,
      "outputs": []
    },
    {
      "cell_type": "code",
      "metadata": {
        "id": "ZsIQeDKUpWit"
      },
      "source": [
        "#PCA\r\n",
        "pca = PCA()\r\n",
        "pca_s_data = pca.fit_transform(scaled_data)"
      ],
      "execution_count": 19,
      "outputs": []
    },
    {
      "cell_type": "code",
      "metadata": {
        "id": "BmndlKqTsmZp"
      },
      "source": [
        "#dimensionality reduction\r\n",
        "from umap import UMAP\r\n",
        "umap = UMAP(random_state=123)\r\n",
        "reduced_data = umap.fit_transform(pca_s_data)"
      ],
      "execution_count": 34,
      "outputs": []
    },
    {
      "cell_type": "code",
      "metadata": {
        "colab": {
          "base_uri": "https://localhost:8080/",
          "height": 204
        },
        "id": "duf7tv9Gtp-T",
        "outputId": "689d578d-5b47-4382-820c-271459552142"
      },
      "source": [
        "#into Data Frame for ease of use\r\n",
        "reduced_df = pd.DataFrame(columns=('Component 1','Component 2'), data = reduced_data)\r\n",
        "reduced_df.head()\r\n"
      ],
      "execution_count": 35,
      "outputs": [
        {
          "output_type": "execute_result",
          "data": {
            "text/html": [
              "<div>\n",
              "<style scoped>\n",
              "    .dataframe tbody tr th:only-of-type {\n",
              "        vertical-align: middle;\n",
              "    }\n",
              "\n",
              "    .dataframe tbody tr th {\n",
              "        vertical-align: top;\n",
              "    }\n",
              "\n",
              "    .dataframe thead th {\n",
              "        text-align: right;\n",
              "    }\n",
              "</style>\n",
              "<table border=\"1\" class=\"dataframe\">\n",
              "  <thead>\n",
              "    <tr style=\"text-align: right;\">\n",
              "      <th></th>\n",
              "      <th>Component 1</th>\n",
              "      <th>Component 2</th>\n",
              "    </tr>\n",
              "  </thead>\n",
              "  <tbody>\n",
              "    <tr>\n",
              "      <th>0</th>\n",
              "      <td>5.169043</td>\n",
              "      <td>3.074199</td>\n",
              "    </tr>\n",
              "    <tr>\n",
              "      <th>1</th>\n",
              "      <td>7.904676</td>\n",
              "      <td>8.677421</td>\n",
              "    </tr>\n",
              "    <tr>\n",
              "      <th>2</th>\n",
              "      <td>3.008638</td>\n",
              "      <td>9.481008</td>\n",
              "    </tr>\n",
              "    <tr>\n",
              "      <th>3</th>\n",
              "      <td>5.439641</td>\n",
              "      <td>2.325608</td>\n",
              "    </tr>\n",
              "    <tr>\n",
              "      <th>4</th>\n",
              "      <td>6.585831</td>\n",
              "      <td>4.014616</td>\n",
              "    </tr>\n",
              "  </tbody>\n",
              "</table>\n",
              "</div>"
            ],
            "text/plain": [
              "   Component 1  Component 2\n",
              "0     5.169043     3.074199\n",
              "1     7.904676     8.677421\n",
              "2     3.008638     9.481008\n",
              "3     5.439641     2.325608\n",
              "4     6.585831     4.014616"
            ]
          },
          "metadata": {
            "tags": []
          },
          "execution_count": 35
        }
      ]
    },
    {
      "cell_type": "code",
      "metadata": {
        "colab": {
          "base_uri": "https://localhost:8080/",
          "height": 296
        },
        "id": "FERMlvhmvACp",
        "outputId": "3fbe6016-80bf-4fbc-fe97-7e4a43af7eab"
      },
      "source": [
        "# graph points\r\n",
        "sns.scatterplot(data=reduced_df,x='Component 1',y='Component 2')"
      ],
      "execution_count": 36,
      "outputs": [
        {
          "output_type": "execute_result",
          "data": {
            "text/plain": [
              "<matplotlib.axes._subplots.AxesSubplot at 0x7f2e2a2d4c90>"
            ]
          },
          "metadata": {
            "tags": []
          },
          "execution_count": 36
        },
        {
          "output_type": "display_data",
          "data": {
            "image/png": "[encoded data removed]",
            "text/plain": [
              "<Figure size 432x288 with 1 Axes>"
            ]
          },
          "metadata": {
            "tags": [],
            "needs_background": "light"
          }
        }
      ]
    },
    {
      "cell_type": "code",
      "metadata": {
        "id": "9Rln-q1LvYur"
      },
      "source": [
        "#clustering\r\n",
        "k3 = KMeans(n_clusters=3,random_state=123)\r\n",
        "model = k3.fit(reduced_df)\r\n",
        "labels = k3.predict(reduced_df)"
      ],
      "execution_count": 48,
      "outputs": []
    },
    {
      "cell_type": "code",
      "metadata": {
        "id": "PfTUqntJxMyW"
      },
      "source": [
        "#adding labels to the reduced dataset\r\n",
        "reduced_df['cluster label'] = labels"
      ],
      "execution_count": 49,
      "outputs": []
    },
    {
      "cell_type": "code",
      "metadata": {
        "colab": {
          "base_uri": "https://localhost:8080/",
          "height": 296
        },
        "id": "xIyg9UuoxoPg",
        "outputId": "e2355c08-97b6-4e7d-cc68-679b51807a94"
      },
      "source": [
        "#graphing clustered data scatterplot\r\n",
        "sns.scatterplot(data=reduced_df,x='Component 1',y='Component 2',hue='cluster label')"
      ],
      "execution_count": 50,
      "outputs": [
        {
          "output_type": "execute_result",
          "data": {
            "text/plain": [
              "<matplotlib.axes._subplots.AxesSubplot at 0x7f2e1e707fd0>"
            ]
          },
          "metadata": {
            "tags": []
          },
          "execution_count": 50
        },
        {
          "output_type": "display_data",
          "data": {
            "image/png": "[encoded data removed]",
            "text/plain": [
              "<Figure size 432x288 with 1 Axes>"
            ]
          },
          "metadata": {
            "tags": [],
            "needs_background": "light"
          }
        }
      ]
    },
    {
      "cell_type": "code",
      "metadata": {
        "id": "QiiNxFU7x7kT"
      },
      "source": [
        "#adding labels to the original dataset\r\n",
        "data['cluster labels'] = labels"
      ],
      "execution_count": 51,
      "outputs": []
    },
    {
      "cell_type": "code",
      "metadata": {
        "colab": {
          "base_uri": "https://localhost:8080/",
          "height": 1000
        },
        "id": "ND6LluXfyCQv",
        "outputId": "36e7e286-10f5-4213-ff1d-c0bdd176b08d"
      },
      "source": [
        "#analyze the clusters \r\n",
        "for c in data:\r\n",
        "    grid= sns.FacetGrid(data, col='cluster labels')\r\n",
        "    grid.map(plt.hist, c)"
      ],
      "execution_count": 52,
      "outputs": [
        {
          "output_type": "display_data",
          "data": {
            "image/png": "[encoded data removed]",
            "text/plain": [
              "<Figure size 648x216 with 3 Axes>"
            ]
          },
          "metadata": {
            "tags": [],
            "needs_background": "light"
          }
        },
        {
          "output_type": "display_data",
          "data": {
            "image/png": "[encoded data removed]",
            "text/plain": [
              "<Figure size 648x216 with 3 Axes>"
            ]
          },
          "metadata": {
            "tags": [],
            "needs_background": "light"
          }
        },
        {
          "output_type": "display_data",
          "data": {
            "image/png": "[encoded data removed]",
            "text/plain": [
              "<Figure size 648x216 with 3 Axes>"
            ]
          },
          "metadata": {
            "tags": [],
            "needs_background": "light"
          }
        },
        {
          "output_type": "display_data",
          "data": {
            "image/png": "[encoded data removed]",
            "text/plain": [
              "<Figure size 648x216 with 3 Axes>"
            ]
          },
          "metadata": {
            "tags": [],
            "needs_background": "light"
          }
        },
        {
          "output_type": "display_data",
          "data": {
            "image/png": "[encoded data removed]",
            "text/plain": [
              "<Figure size 648x216 with 3 Axes>"
            ]
          },
          "metadata": {
            "tags": [],
            "needs_background": "light"
          }
        },
        {
          "output_type": "display_data",
          "data": {
            "image/png": "[encoded data removed]",
            "text/plain": [
              "<Figure size 648x216 with 3 Axes>"
            ]
          },
          "metadata": {
            "tags": [],
            "needs_background": "light"
          }
        },
        {
          "output_type": "display_data",
          "data": {
            "image/png": "[encoded data removed]",
            "text/plain": [
              "<Figure size 648x216 with 3 Axes>"
            ]
          },
          "metadata": {
            "tags": [],
            "needs_background": "light"
          }
        },
        {
          "output_type": "display_data",
          "data": {
            "image/png": "[encoded data removed]",
            "text/plain": [
              "<Figure size 648x216 with 3 Axes>"
            ]
          },
          "metadata": {
            "tags": [],
            "needs_background": "light"
          }
        },
        {
          "output_type": "display_data",
          "data": {
            "image/png": "[encoded data removed]",
            "text/plain": [
              "<Figure size 648x216 with 3 Axes>"
            ]
          },
          "metadata": {
            "tags": [],
            "needs_background": "light"
          }
        },
        {
          "output_type": "display_data",
          "data": {
            "image/png": "[encoded data removed]",
            "text/plain": [
              "<Figure size 648x216 with 3 Axes>"
            ]
          },
          "metadata": {
            "tags": [],
            "needs_background": "light"
          }
        },
        {
          "output_type": "display_data",
          "data": {
            "image/png": "[encoded data removed]",
            "text/plain": [
              "<Figure size 648x216 with 3 Axes>"
            ]
          },
          "metadata": {
            "tags": [],
            "needs_background": "light"
          }
        },
        {
          "output_type": "display_data",
          "data": {
            "image/png": "[encoded data removed]",
            "text/plain": [
              "<Figure size 648x216 with 3 Axes>"
            ]
          },
          "metadata": {
            "tags": [],
            "needs_background": "light"
          }
        },
        {
          "output_type": "display_data",
          "data": {
            "image/png": "[encoded data removed]",
            "text/plain": [
              "<Figure size 648x216 with 3 Axes>"
            ]
          },
          "metadata": {
            "tags": [],
            "needs_background": "light"
          }
        },
        {
          "output_type": "display_data",
          "data": {
            "image/png": "[encoded data removed]",
            "text/plain": [
              "<Figure size 648x216 with 3 Axes>"
            ]
          },
          "metadata": {
            "tags": [],
            "needs_background": "light"
          }
        },
        {
          "output_type": "display_data",
          "data": {
            "image/png": "[encoded data removed]",
            "text/plain": [
              "<Figure size 648x216 with 3 Axes>"
            ]
          },
          "metadata": {
            "tags": [],
            "needs_background": "light"
          }
        },
        {
          "output_type": "display_data",
          "data": {
            "image/png": "[encoded data removed]",
            "text/plain": [
              "<Figure size 648x216 with 3 Axes>"
            ]
          },
          "metadata": {
            "tags": [],
            "needs_background": "light"
          }
        },
        {
          "output_type": "display_data",
          "data": {
            "image/png": "[encoded data removed]",
            "text/plain": [
              "<Figure size 648x216 with 3 Axes>"
            ]
          },
          "metadata": {
            "tags": [],
            "needs_background": "light"
          }
        },
        {
          "output_type": "display_data",
          "data": {
            "image/png": "[encoded data removed]",
            "text/plain": [
              "<Figure size 648x216 with 3 Axes>"
            ]
          },
          "metadata": {
            "tags": [],
            "needs_background": "light"
          }
        }
      ]
    },
    {
      "cell_type": "code",
      "metadata": {
        "colab": {
          "base_uri": "https://localhost:8080/",
          "height": 297
        },
        "id": "UwCbMqG-07Kr",
        "outputId": "66923e0e-fae9-4b02-e301-54de7b9332eb"
      },
      "source": [
        "### Cluster analysis\r\n",
        "data.groupby('cluster labels').BALANCE.describe().T"
      ],
      "execution_count": 54,
      "outputs": [
        {
          "output_type": "execute_result",
          "data": {
            "text/html": [
              "<div>\n",
              "<style scoped>\n",
              "    .dataframe tbody tr th:only-of-type {\n",
              "        vertical-align: middle;\n",
              "    }\n",
              "\n",
              "    .dataframe tbody tr th {\n",
              "        vertical-align: top;\n",
              "    }\n",
              "\n",
              "    .dataframe thead th {\n",
              "        text-align: right;\n",
              "    }\n",
              "</style>\n",
              "<table border=\"1\" class=\"dataframe\">\n",
              "  <thead>\n",
              "    <tr style=\"text-align: right;\">\n",
              "      <th>cluster labels</th>\n",
              "      <th>0</th>\n",
              "      <th>1</th>\n",
              "      <th>2</th>\n",
              "    </tr>\n",
              "  </thead>\n",
              "  <tbody>\n",
              "    <tr>\n",
              "      <th>count</th>\n",
              "      <td>2967.000000</td>\n",
              "      <td>2165.000000</td>\n",
              "      <td>3817.000000</td>\n",
              "    </tr>\n",
              "    <tr>\n",
              "      <th>mean</th>\n",
              "      <td>2800.038713</td>\n",
              "      <td>619.885051</td>\n",
              "      <td>1140.231939</td>\n",
              "    </tr>\n",
              "    <tr>\n",
              "      <th>std</th>\n",
              "      <td>2453.633724</td>\n",
              "      <td>1007.202939</td>\n",
              "      <td>1741.396449</td>\n",
              "    </tr>\n",
              "    <tr>\n",
              "      <th>min</th>\n",
              "      <td>0.488050</td>\n",
              "      <td>0.000000</td>\n",
              "      <td>0.000000</td>\n",
              "    </tr>\n",
              "    <tr>\n",
              "      <th>25%</th>\n",
              "      <td>1087.920500</td>\n",
              "      <td>19.491307</td>\n",
              "      <td>90.582466</td>\n",
              "    </tr>\n",
              "    <tr>\n",
              "      <th>50%</th>\n",
              "      <td>1938.648722</td>\n",
              "      <td>168.539199</td>\n",
              "      <td>452.094148</td>\n",
              "    </tr>\n",
              "    <tr>\n",
              "      <th>75%</th>\n",
              "      <td>3904.687252</td>\n",
              "      <td>916.627912</td>\n",
              "      <td>1473.542308</td>\n",
              "    </tr>\n",
              "    <tr>\n",
              "      <th>max</th>\n",
              "      <td>16304.889250</td>\n",
              "      <td>9601.071318</td>\n",
              "      <td>19043.138560</td>\n",
              "    </tr>\n",
              "  </tbody>\n",
              "</table>\n",
              "</div>"
            ],
            "text/plain": [
              "cluster labels             0            1             2\n",
              "count            2967.000000  2165.000000   3817.000000\n",
              "mean             2800.038713   619.885051   1140.231939\n",
              "std              2453.633724  1007.202939   1741.396449\n",
              "min                 0.488050     0.000000      0.000000\n",
              "25%              1087.920500    19.491307     90.582466\n",
              "50%              1938.648722   168.539199    452.094148\n",
              "75%              3904.687252   916.627912   1473.542308\n",
              "max             16304.889250  9601.071318  19043.138560"
            ]
          },
          "metadata": {
            "tags": []
          },
          "execution_count": 54
        }
      ]
    },
    {
      "cell_type": "code",
      "metadata": {
        "colab": {
          "base_uri": "https://localhost:8080/",
          "height": 297
        },
        "id": "Iy0Uqfxh2EL_",
        "outputId": "51f7bbdf-44e5-4c4d-a87e-c3f32210c181"
      },
      "source": [
        "data.groupby('cluster labels').BALANCE_FREQUENCY.describe().T"
      ],
      "execution_count": 55,
      "outputs": [
        {
          "output_type": "execute_result",
          "data": {
            "text/html": [
              "<div>\n",
              "<style scoped>\n",
              "    .dataframe tbody tr th:only-of-type {\n",
              "        vertical-align: middle;\n",
              "    }\n",
              "\n",
              "    .dataframe tbody tr th {\n",
              "        vertical-align: top;\n",
              "    }\n",
              "\n",
              "    .dataframe thead th {\n",
              "        text-align: right;\n",
              "    }\n",
              "</style>\n",
              "<table border=\"1\" class=\"dataframe\">\n",
              "  <thead>\n",
              "    <tr style=\"text-align: right;\">\n",
              "      <th>cluster labels</th>\n",
              "      <th>0</th>\n",
              "      <th>1</th>\n",
              "      <th>2</th>\n",
              "    </tr>\n",
              "  </thead>\n",
              "  <tbody>\n",
              "    <tr>\n",
              "      <th>count</th>\n",
              "      <td>2967.000000</td>\n",
              "      <td>2165.000000</td>\n",
              "      <td>3817.000000</td>\n",
              "    </tr>\n",
              "    <tr>\n",
              "      <th>mean</th>\n",
              "      <td>0.984332</td>\n",
              "      <td>0.622190</td>\n",
              "      <td>0.938919</td>\n",
              "    </tr>\n",
              "    <tr>\n",
              "      <th>std</th>\n",
              "      <td>0.053592</td>\n",
              "      <td>0.317060</td>\n",
              "      <td>0.150386</td>\n",
              "    </tr>\n",
              "    <tr>\n",
              "      <th>min</th>\n",
              "      <td>0.454545</td>\n",
              "      <td>0.000000</td>\n",
              "      <td>0.000000</td>\n",
              "    </tr>\n",
              "    <tr>\n",
              "      <th>25%</th>\n",
              "      <td>1.000000</td>\n",
              "      <td>0.363636</td>\n",
              "      <td>1.000000</td>\n",
              "    </tr>\n",
              "    <tr>\n",
              "      <th>50%</th>\n",
              "      <td>1.000000</td>\n",
              "      <td>0.636364</td>\n",
              "      <td>1.000000</td>\n",
              "    </tr>\n",
              "    <tr>\n",
              "      <th>75%</th>\n",
              "      <td>1.000000</td>\n",
              "      <td>1.000000</td>\n",
              "      <td>1.000000</td>\n",
              "    </tr>\n",
              "    <tr>\n",
              "      <th>max</th>\n",
              "      <td>1.000000</td>\n",
              "      <td>1.000000</td>\n",
              "      <td>1.000000</td>\n",
              "    </tr>\n",
              "  </tbody>\n",
              "</table>\n",
              "</div>"
            ],
            "text/plain": [
              "cluster labels            0            1            2\n",
              "count           2967.000000  2165.000000  3817.000000\n",
              "mean               0.984332     0.622190     0.938919\n",
              "std                0.053592     0.317060     0.150386\n",
              "min                0.454545     0.000000     0.000000\n",
              "25%                1.000000     0.363636     1.000000\n",
              "50%                1.000000     0.636364     1.000000\n",
              "75%                1.000000     1.000000     1.000000\n",
              "max                1.000000     1.000000     1.000000"
            ]
          },
          "metadata": {
            "tags": []
          },
          "execution_count": 55
        }
      ]
    },
    {
      "cell_type": "code",
      "metadata": {
        "colab": {
          "base_uri": "https://localhost:8080/",
          "height": 297
        },
        "id": "fBZGlvjx2D-S",
        "outputId": "29e978d7-0ad3-4053-9f85-3f3b9b2657a3"
      },
      "source": [
        "data.groupby('cluster labels').PURCHASES.describe().T"
      ],
      "execution_count": 56,
      "outputs": [
        {
          "output_type": "execute_result",
          "data": {
            "text/html": [
              "<div>\n",
              "<style scoped>\n",
              "    .dataframe tbody tr th:only-of-type {\n",
              "        vertical-align: middle;\n",
              "    }\n",
              "\n",
              "    .dataframe tbody tr th {\n",
              "        vertical-align: top;\n",
              "    }\n",
              "\n",
              "    .dataframe thead th {\n",
              "        text-align: right;\n",
              "    }\n",
              "</style>\n",
              "<table border=\"1\" class=\"dataframe\">\n",
              "  <thead>\n",
              "    <tr style=\"text-align: right;\">\n",
              "      <th>cluster labels</th>\n",
              "      <th>0</th>\n",
              "      <th>1</th>\n",
              "      <th>2</th>\n",
              "    </tr>\n",
              "  </thead>\n",
              "  <tbody>\n",
              "    <tr>\n",
              "      <th>count</th>\n",
              "      <td>2967.000000</td>\n",
              "      <td>2165.000000</td>\n",
              "      <td>3817.000000</td>\n",
              "    </tr>\n",
              "    <tr>\n",
              "      <th>mean</th>\n",
              "      <td>385.285666</td>\n",
              "      <td>339.521640</td>\n",
              "      <td>1860.224349</td>\n",
              "    </tr>\n",
              "    <tr>\n",
              "      <th>std</th>\n",
              "      <td>753.281438</td>\n",
              "      <td>546.516678</td>\n",
              "      <td>2968.813718</td>\n",
              "    </tr>\n",
              "    <tr>\n",
              "      <th>min</th>\n",
              "      <td>0.000000</td>\n",
              "      <td>0.000000</td>\n",
              "      <td>0.000000</td>\n",
              "    </tr>\n",
              "    <tr>\n",
              "      <th>25%</th>\n",
              "      <td>0.000000</td>\n",
              "      <td>0.240000</td>\n",
              "      <td>428.000000</td>\n",
              "    </tr>\n",
              "    <tr>\n",
              "      <th>50%</th>\n",
              "      <td>0.000000</td>\n",
              "      <td>133.160000</td>\n",
              "      <td>955.870000</td>\n",
              "    </tr>\n",
              "    <tr>\n",
              "      <th>75%</th>\n",
              "      <td>454.170000</td>\n",
              "      <td>415.040000</td>\n",
              "      <td>2204.540000</td>\n",
              "    </tr>\n",
              "    <tr>\n",
              "      <th>max</th>\n",
              "      <td>7739.480000</td>\n",
              "      <td>6520.000000</td>\n",
              "      <td>49039.570000</td>\n",
              "    </tr>\n",
              "  </tbody>\n",
              "</table>\n",
              "</div>"
            ],
            "text/plain": [
              "cluster labels            0            1             2\n",
              "count           2967.000000  2165.000000   3817.000000\n",
              "mean             385.285666   339.521640   1860.224349\n",
              "std              753.281438   546.516678   2968.813718\n",
              "min                0.000000     0.000000      0.000000\n",
              "25%                0.000000     0.240000    428.000000\n",
              "50%                0.000000   133.160000    955.870000\n",
              "75%              454.170000   415.040000   2204.540000\n",
              "max             7739.480000  6520.000000  49039.570000"
            ]
          },
          "metadata": {
            "tags": []
          },
          "execution_count": 56
        }
      ]
    },
    {
      "cell_type": "code",
      "metadata": {
        "colab": {
          "base_uri": "https://localhost:8080/",
          "height": 297
        },
        "id": "iRe5oqOG2D3r",
        "outputId": "6dc5f719-7f4c-40f3-8dfc-e0ce035cc9f6"
      },
      "source": [
        "data.groupby('cluster labels').ONEOFF_PURCHASES.describe().T"
      ],
      "execution_count": 57,
      "outputs": [
        {
          "output_type": "execute_result",
          "data": {
            "text/html": [
              "<div>\n",
              "<style scoped>\n",
              "    .dataframe tbody tr th:only-of-type {\n",
              "        vertical-align: middle;\n",
              "    }\n",
              "\n",
              "    .dataframe tbody tr th {\n",
              "        vertical-align: top;\n",
              "    }\n",
              "\n",
              "    .dataframe thead th {\n",
              "        text-align: right;\n",
              "    }\n",
              "</style>\n",
              "<table border=\"1\" class=\"dataframe\">\n",
              "  <thead>\n",
              "    <tr style=\"text-align: right;\">\n",
              "      <th>cluster labels</th>\n",
              "      <th>0</th>\n",
              "      <th>1</th>\n",
              "      <th>2</th>\n",
              "    </tr>\n",
              "  </thead>\n",
              "  <tbody>\n",
              "    <tr>\n",
              "      <th>count</th>\n",
              "      <td>2967.000000</td>\n",
              "      <td>2165.000000</td>\n",
              "      <td>3817.000000</td>\n",
              "    </tr>\n",
              "    <tr>\n",
              "      <th>mean</th>\n",
              "      <td>287.389791</td>\n",
              "      <td>240.055058</td>\n",
              "      <td>1029.580760</td>\n",
              "    </tr>\n",
              "    <tr>\n",
              "      <th>std</th>\n",
              "      <td>609.146703</td>\n",
              "      <td>493.532824</td>\n",
              "      <td>2387.631436</td>\n",
              "    </tr>\n",
              "    <tr>\n",
              "      <th>min</th>\n",
              "      <td>0.000000</td>\n",
              "      <td>0.000000</td>\n",
              "      <td>0.000000</td>\n",
              "    </tr>\n",
              "    <tr>\n",
              "      <th>25%</th>\n",
              "      <td>0.000000</td>\n",
              "      <td>0.000000</td>\n",
              "      <td>0.000000</td>\n",
              "    </tr>\n",
              "    <tr>\n",
              "      <th>50%</th>\n",
              "      <td>0.000000</td>\n",
              "      <td>0.000000</td>\n",
              "      <td>215.000000</td>\n",
              "    </tr>\n",
              "    <tr>\n",
              "      <th>75%</th>\n",
              "      <td>294.000000</td>\n",
              "      <td>259.130000</td>\n",
              "      <td>1169.630000</td>\n",
              "    </tr>\n",
              "    <tr>\n",
              "      <th>max</th>\n",
              "      <td>6678.260000</td>\n",
              "      <td>6520.000000</td>\n",
              "      <td>40761.250000</td>\n",
              "    </tr>\n",
              "  </tbody>\n",
              "</table>\n",
              "</div>"
            ],
            "text/plain": [
              "cluster labels            0            1             2\n",
              "count           2967.000000  2165.000000   3817.000000\n",
              "mean             287.389791   240.055058   1029.580760\n",
              "std              609.146703   493.532824   2387.631436\n",
              "min                0.000000     0.000000      0.000000\n",
              "25%                0.000000     0.000000      0.000000\n",
              "50%                0.000000     0.000000    215.000000\n",
              "75%              294.000000   259.130000   1169.630000\n",
              "max             6678.260000  6520.000000  40761.250000"
            ]
          },
          "metadata": {
            "tags": []
          },
          "execution_count": 57
        }
      ]
    },
    {
      "cell_type": "code",
      "metadata": {
        "colab": {
          "base_uri": "https://localhost:8080/",
          "height": 297
        },
        "id": "mZBVv0Er2DxB",
        "outputId": "91cd05a9-b654-43a1-f34e-fa8dbe6fc480"
      },
      "source": [
        "data.groupby('cluster labels').INSTALLMENTS_PURCHASES.describe().T"
      ],
      "execution_count": 58,
      "outputs": [
        {
          "output_type": "execute_result",
          "data": {
            "text/html": [
              "<div>\n",
              "<style scoped>\n",
              "    .dataframe tbody tr th:only-of-type {\n",
              "        vertical-align: middle;\n",
              "    }\n",
              "\n",
              "    .dataframe tbody tr th {\n",
              "        vertical-align: top;\n",
              "    }\n",
              "\n",
              "    .dataframe thead th {\n",
              "        text-align: right;\n",
              "    }\n",
              "</style>\n",
              "<table border=\"1\" class=\"dataframe\">\n",
              "  <thead>\n",
              "    <tr style=\"text-align: right;\">\n",
              "      <th>cluster labels</th>\n",
              "      <th>0</th>\n",
              "      <th>1</th>\n",
              "      <th>2</th>\n",
              "    </tr>\n",
              "  </thead>\n",
              "  <tbody>\n",
              "    <tr>\n",
              "      <th>count</th>\n",
              "      <td>2967.000000</td>\n",
              "      <td>2165.000000</td>\n",
              "      <td>3817.000000</td>\n",
              "    </tr>\n",
              "    <tr>\n",
              "      <th>mean</th>\n",
              "      <td>98.081095</td>\n",
              "      <td>99.789677</td>\n",
              "      <td>831.020215</td>\n",
              "    </tr>\n",
              "    <tr>\n",
              "      <th>std</th>\n",
              "      <td>341.042544</td>\n",
              "      <td>230.935261</td>\n",
              "      <td>1220.521746</td>\n",
              "    </tr>\n",
              "    <tr>\n",
              "      <th>min</th>\n",
              "      <td>0.000000</td>\n",
              "      <td>0.000000</td>\n",
              "      <td>0.000000</td>\n",
              "    </tr>\n",
              "    <tr>\n",
              "      <th>25%</th>\n",
              "      <td>0.000000</td>\n",
              "      <td>0.000000</td>\n",
              "      <td>225.000000</td>\n",
              "    </tr>\n",
              "    <tr>\n",
              "      <th>50%</th>\n",
              "      <td>0.000000</td>\n",
              "      <td>0.000000</td>\n",
              "      <td>476.660000</td>\n",
              "    </tr>\n",
              "    <tr>\n",
              "      <th>75%</th>\n",
              "      <td>0.000000</td>\n",
              "      <td>100.500000</td>\n",
              "      <td>1020.530000</td>\n",
              "    </tr>\n",
              "    <tr>\n",
              "      <th>max</th>\n",
              "      <td>7739.480000</td>\n",
              "      <td>2751.040000</td>\n",
              "      <td>22500.000000</td>\n",
              "    </tr>\n",
              "  </tbody>\n",
              "</table>\n",
              "</div>"
            ],
            "text/plain": [
              "cluster labels            0            1             2\n",
              "count           2967.000000  2165.000000   3817.000000\n",
              "mean              98.081095    99.789677    831.020215\n",
              "std              341.042544   230.935261   1220.521746\n",
              "min                0.000000     0.000000      0.000000\n",
              "25%                0.000000     0.000000    225.000000\n",
              "50%                0.000000     0.000000    476.660000\n",
              "75%                0.000000   100.500000   1020.530000\n",
              "max             7739.480000  2751.040000  22500.000000"
            ]
          },
          "metadata": {
            "tags": []
          },
          "execution_count": 58
        }
      ]
    },
    {
      "cell_type": "code",
      "metadata": {
        "colab": {
          "base_uri": "https://localhost:8080/",
          "height": 297
        },
        "id": "2927owZt2Dq6",
        "outputId": "99682efc-7c25-432f-c4e5-469962547a12"
      },
      "source": [
        "data.groupby('cluster labels').CASH_ADVANCE.describe().T"
      ],
      "execution_count": 59,
      "outputs": [
        {
          "output_type": "execute_result",
          "data": {
            "text/html": [
              "<div>\n",
              "<style scoped>\n",
              "    .dataframe tbody tr th:only-of-type {\n",
              "        vertical-align: middle;\n",
              "    }\n",
              "\n",
              "    .dataframe tbody tr th {\n",
              "        vertical-align: top;\n",
              "    }\n",
              "\n",
              "    .dataframe thead th {\n",
              "        text-align: right;\n",
              "    }\n",
              "</style>\n",
              "<table border=\"1\" class=\"dataframe\">\n",
              "  <thead>\n",
              "    <tr style=\"text-align: right;\">\n",
              "      <th>cluster labels</th>\n",
              "      <th>0</th>\n",
              "      <th>1</th>\n",
              "      <th>2</th>\n",
              "    </tr>\n",
              "  </thead>\n",
              "  <tbody>\n",
              "    <tr>\n",
              "      <th>count</th>\n",
              "      <td>2967.000000</td>\n",
              "      <td>2165.000000</td>\n",
              "      <td>3817.000000</td>\n",
              "    </tr>\n",
              "    <tr>\n",
              "      <th>mean</th>\n",
              "      <td>2087.166434</td>\n",
              "      <td>685.866858</td>\n",
              "      <td>283.779158</td>\n",
              "    </tr>\n",
              "    <tr>\n",
              "      <th>std</th>\n",
              "      <td>2975.153811</td>\n",
              "      <td>1448.335813</td>\n",
              "      <td>870.313506</td>\n",
              "    </tr>\n",
              "    <tr>\n",
              "      <th>min</th>\n",
              "      <td>0.000000</td>\n",
              "      <td>0.000000</td>\n",
              "      <td>0.000000</td>\n",
              "    </tr>\n",
              "    <tr>\n",
              "      <th>25%</th>\n",
              "      <td>189.665030</td>\n",
              "      <td>0.000000</td>\n",
              "      <td>0.000000</td>\n",
              "    </tr>\n",
              "    <tr>\n",
              "      <th>50%</th>\n",
              "      <td>1115.920030</td>\n",
              "      <td>0.000000</td>\n",
              "      <td>0.000000</td>\n",
              "    </tr>\n",
              "    <tr>\n",
              "      <th>75%</th>\n",
              "      <td>2837.671284</td>\n",
              "      <td>752.292181</td>\n",
              "      <td>0.000000</td>\n",
              "    </tr>\n",
              "    <tr>\n",
              "      <th>max</th>\n",
              "      <td>47137.211760</td>\n",
              "      <td>10590.411130</td>\n",
              "      <td>19513.474830</td>\n",
              "    </tr>\n",
              "  </tbody>\n",
              "</table>\n",
              "</div>"
            ],
            "text/plain": [
              "cluster labels             0             1             2\n",
              "count            2967.000000   2165.000000   3817.000000\n",
              "mean             2087.166434    685.866858    283.779158\n",
              "std              2975.153811   1448.335813    870.313506\n",
              "min                 0.000000      0.000000      0.000000\n",
              "25%               189.665030      0.000000      0.000000\n",
              "50%              1115.920030      0.000000      0.000000\n",
              "75%              2837.671284    752.292181      0.000000\n",
              "max             47137.211760  10590.411130  19513.474830"
            ]
          },
          "metadata": {
            "tags": []
          },
          "execution_count": 59
        }
      ]
    },
    {
      "cell_type": "code",
      "metadata": {
        "colab": {
          "base_uri": "https://localhost:8080/",
          "height": 297
        },
        "id": "q93Nl6vi2DlP",
        "outputId": "11249f89-e975-4efc-c4b5-ed7ee6ddc35d"
      },
      "source": [
        "data.groupby('cluster labels').PURCHASES_FREQUENCY.describe().T"
      ],
      "execution_count": 60,
      "outputs": [
        {
          "output_type": "execute_result",
          "data": {
            "text/html": [
              "<div>\n",
              "<style scoped>\n",
              "    .dataframe tbody tr th:only-of-type {\n",
              "        vertical-align: middle;\n",
              "    }\n",
              "\n",
              "    .dataframe tbody tr th {\n",
              "        vertical-align: top;\n",
              "    }\n",
              "\n",
              "    .dataframe thead th {\n",
              "        text-align: right;\n",
              "    }\n",
              "</style>\n",
              "<table border=\"1\" class=\"dataframe\">\n",
              "  <thead>\n",
              "    <tr style=\"text-align: right;\">\n",
              "      <th>cluster labels</th>\n",
              "      <th>0</th>\n",
              "      <th>1</th>\n",
              "      <th>2</th>\n",
              "    </tr>\n",
              "  </thead>\n",
              "  <tbody>\n",
              "    <tr>\n",
              "      <th>count</th>\n",
              "      <td>2967.000000</td>\n",
              "      <td>2165.000000</td>\n",
              "      <td>3817.000000</td>\n",
              "    </tr>\n",
              "    <tr>\n",
              "      <th>mean</th>\n",
              "      <td>0.206686</td>\n",
              "      <td>0.239509</td>\n",
              "      <td>0.853252</td>\n",
              "    </tr>\n",
              "    <tr>\n",
              "      <th>std</th>\n",
              "      <td>0.293772</td>\n",
              "      <td>0.256883</td>\n",
              "      <td>0.207941</td>\n",
              "    </tr>\n",
              "    <tr>\n",
              "      <th>min</th>\n",
              "      <td>0.000000</td>\n",
              "      <td>0.000000</td>\n",
              "      <td>0.000000</td>\n",
              "    </tr>\n",
              "    <tr>\n",
              "      <th>25%</th>\n",
              "      <td>0.000000</td>\n",
              "      <td>0.083333</td>\n",
              "      <td>0.750000</td>\n",
              "    </tr>\n",
              "    <tr>\n",
              "      <th>50%</th>\n",
              "      <td>0.000000</td>\n",
              "      <td>0.166667</td>\n",
              "      <td>1.000000</td>\n",
              "    </tr>\n",
              "    <tr>\n",
              "      <th>75%</th>\n",
              "      <td>0.333333</td>\n",
              "      <td>0.333333</td>\n",
              "      <td>1.000000</td>\n",
              "    </tr>\n",
              "    <tr>\n",
              "      <th>max</th>\n",
              "      <td>1.000000</td>\n",
              "      <td>1.000000</td>\n",
              "      <td>1.000000</td>\n",
              "    </tr>\n",
              "  </tbody>\n",
              "</table>\n",
              "</div>"
            ],
            "text/plain": [
              "cluster labels            0            1            2\n",
              "count           2967.000000  2165.000000  3817.000000\n",
              "mean               0.206686     0.239509     0.853252\n",
              "std                0.293772     0.256883     0.207941\n",
              "min                0.000000     0.000000     0.000000\n",
              "25%                0.000000     0.083333     0.750000\n",
              "50%                0.000000     0.166667     1.000000\n",
              "75%                0.333333     0.333333     1.000000\n",
              "max                1.000000     1.000000     1.000000"
            ]
          },
          "metadata": {
            "tags": []
          },
          "execution_count": 60
        }
      ]
    },
    {
      "cell_type": "code",
      "metadata": {
        "colab": {
          "base_uri": "https://localhost:8080/",
          "height": 297
        },
        "id": "5lzIm5aG2Ddm",
        "outputId": "48c81d24-de9a-45d5-d8f3-26037fe9c7fb"
      },
      "source": [
        "data.groupby('cluster labels').ONEOFF_PURCHASES_FREQUENCY.describe().T"
      ],
      "execution_count": 61,
      "outputs": [
        {
          "output_type": "execute_result",
          "data": {
            "text/html": [
              "<div>\n",
              "<style scoped>\n",
              "    .dataframe tbody tr th:only-of-type {\n",
              "        vertical-align: middle;\n",
              "    }\n",
              "\n",
              "    .dataframe tbody tr th {\n",
              "        vertical-align: top;\n",
              "    }\n",
              "\n",
              "    .dataframe thead th {\n",
              "        text-align: right;\n",
              "    }\n",
              "</style>\n",
              "<table border=\"1\" class=\"dataframe\">\n",
              "  <thead>\n",
              "    <tr style=\"text-align: right;\">\n",
              "      <th>cluster labels</th>\n",
              "      <th>0</th>\n",
              "      <th>1</th>\n",
              "      <th>2</th>\n",
              "    </tr>\n",
              "  </thead>\n",
              "  <tbody>\n",
              "    <tr>\n",
              "      <th>count</th>\n",
              "      <td>2967.000000</td>\n",
              "      <td>2165.000000</td>\n",
              "      <td>3817.000000</td>\n",
              "    </tr>\n",
              "    <tr>\n",
              "      <th>mean</th>\n",
              "      <td>0.126621</td>\n",
              "      <td>0.097328</td>\n",
              "      <td>0.321089</td>\n",
              "    </tr>\n",
              "    <tr>\n",
              "      <th>std</th>\n",
              "      <td>0.209638</td>\n",
              "      <td>0.151573</td>\n",
              "      <td>0.369742</td>\n",
              "    </tr>\n",
              "    <tr>\n",
              "      <th>min</th>\n",
              "      <td>0.000000</td>\n",
              "      <td>0.000000</td>\n",
              "      <td>0.000000</td>\n",
              "    </tr>\n",
              "    <tr>\n",
              "      <th>25%</th>\n",
              "      <td>0.000000</td>\n",
              "      <td>0.000000</td>\n",
              "      <td>0.000000</td>\n",
              "    </tr>\n",
              "    <tr>\n",
              "      <th>50%</th>\n",
              "      <td>0.000000</td>\n",
              "      <td>0.000000</td>\n",
              "      <td>0.166667</td>\n",
              "    </tr>\n",
              "    <tr>\n",
              "      <th>75%</th>\n",
              "      <td>0.166667</td>\n",
              "      <td>0.142857</td>\n",
              "      <td>0.583333</td>\n",
              "    </tr>\n",
              "    <tr>\n",
              "      <th>max</th>\n",
              "      <td>1.000000</td>\n",
              "      <td>1.000000</td>\n",
              "      <td>1.000000</td>\n",
              "    </tr>\n",
              "  </tbody>\n",
              "</table>\n",
              "</div>"
            ],
            "text/plain": [
              "cluster labels            0            1            2\n",
              "count           2967.000000  2165.000000  3817.000000\n",
              "mean               0.126621     0.097328     0.321089\n",
              "std                0.209638     0.151573     0.369742\n",
              "min                0.000000     0.000000     0.000000\n",
              "25%                0.000000     0.000000     0.000000\n",
              "50%                0.000000     0.000000     0.166667\n",
              "75%                0.166667     0.142857     0.583333\n",
              "max                1.000000     1.000000     1.000000"
            ]
          },
          "metadata": {
            "tags": []
          },
          "execution_count": 61
        }
      ]
    },
    {
      "cell_type": "code",
      "metadata": {
        "colab": {
          "base_uri": "https://localhost:8080/",
          "height": 297
        },
        "id": "sOgTKNbT2DY5",
        "outputId": "d3ebd1d8-c2b6-4c72-ce5e-3fd5d41d049e"
      },
      "source": [
        "data.groupby('cluster labels').PURCHASES_INSTALLMENTS_FREQUENCY.describe().T"
      ],
      "execution_count": 62,
      "outputs": [
        {
          "output_type": "execute_result",
          "data": {
            "text/html": [
              "<div>\n",
              "<style scoped>\n",
              "    .dataframe tbody tr th:only-of-type {\n",
              "        vertical-align: middle;\n",
              "    }\n",
              "\n",
              "    .dataframe tbody tr th {\n",
              "        vertical-align: top;\n",
              "    }\n",
              "\n",
              "    .dataframe thead th {\n",
              "        text-align: right;\n",
              "    }\n",
              "</style>\n",
              "<table border=\"1\" class=\"dataframe\">\n",
              "  <thead>\n",
              "    <tr style=\"text-align: right;\">\n",
              "      <th>cluster labels</th>\n",
              "      <th>0</th>\n",
              "      <th>1</th>\n",
              "      <th>2</th>\n",
              "    </tr>\n",
              "  </thead>\n",
              "  <tbody>\n",
              "    <tr>\n",
              "      <th>count</th>\n",
              "      <td>2967.000000</td>\n",
              "      <td>2165.000000</td>\n",
              "      <td>3817.000000</td>\n",
              "    </tr>\n",
              "    <tr>\n",
              "      <th>mean</th>\n",
              "      <td>0.098835</td>\n",
              "      <td>0.144820</td>\n",
              "      <td>0.695555</td>\n",
              "    </tr>\n",
              "    <tr>\n",
              "      <th>std</th>\n",
              "      <td>0.235800</td>\n",
              "      <td>0.245289</td>\n",
              "      <td>0.318111</td>\n",
              "    </tr>\n",
              "    <tr>\n",
              "      <th>min</th>\n",
              "      <td>0.000000</td>\n",
              "      <td>0.000000</td>\n",
              "      <td>0.000000</td>\n",
              "    </tr>\n",
              "    <tr>\n",
              "      <th>25%</th>\n",
              "      <td>0.000000</td>\n",
              "      <td>0.000000</td>\n",
              "      <td>0.500000</td>\n",
              "    </tr>\n",
              "    <tr>\n",
              "      <th>50%</th>\n",
              "      <td>0.000000</td>\n",
              "      <td>0.000000</td>\n",
              "      <td>0.818182</td>\n",
              "    </tr>\n",
              "    <tr>\n",
              "      <th>75%</th>\n",
              "      <td>0.000000</td>\n",
              "      <td>0.250000</td>\n",
              "      <td>1.000000</td>\n",
              "    </tr>\n",
              "    <tr>\n",
              "      <th>max</th>\n",
              "      <td>1.000000</td>\n",
              "      <td>1.000000</td>\n",
              "      <td>1.000000</td>\n",
              "    </tr>\n",
              "  </tbody>\n",
              "</table>\n",
              "</div>"
            ],
            "text/plain": [
              "cluster labels            0            1            2\n",
              "count           2967.000000  2165.000000  3817.000000\n",
              "mean               0.098835     0.144820     0.695555\n",
              "std                0.235800     0.245289     0.318111\n",
              "min                0.000000     0.000000     0.000000\n",
              "25%                0.000000     0.000000     0.500000\n",
              "50%                0.000000     0.000000     0.818182\n",
              "75%                0.000000     0.250000     1.000000\n",
              "max                1.000000     1.000000     1.000000"
            ]
          },
          "metadata": {
            "tags": []
          },
          "execution_count": 62
        }
      ]
    },
    {
      "cell_type": "code",
      "metadata": {
        "colab": {
          "base_uri": "https://localhost:8080/",
          "height": 297
        },
        "id": "HQXtv2Te2DUv",
        "outputId": "131a981b-8ac0-43ad-a66a-df7e7c5cc6dc"
      },
      "source": [
        "data.groupby('cluster labels').CASH_ADVANCE_FREQUENCY.describe().T"
      ],
      "execution_count": 63,
      "outputs": [
        {
          "output_type": "execute_result",
          "data": {
            "text/html": [
              "<div>\n",
              "<style scoped>\n",
              "    .dataframe tbody tr th:only-of-type {\n",
              "        vertical-align: middle;\n",
              "    }\n",
              "\n",
              "    .dataframe tbody tr th {\n",
              "        vertical-align: top;\n",
              "    }\n",
              "\n",
              "    .dataframe thead th {\n",
              "        text-align: right;\n",
              "    }\n",
              "</style>\n",
              "<table border=\"1\" class=\"dataframe\">\n",
              "  <thead>\n",
              "    <tr style=\"text-align: right;\">\n",
              "      <th>cluster labels</th>\n",
              "      <th>0</th>\n",
              "      <th>1</th>\n",
              "      <th>2</th>\n",
              "    </tr>\n",
              "  </thead>\n",
              "  <tbody>\n",
              "    <tr>\n",
              "      <th>count</th>\n",
              "      <td>2967.000000</td>\n",
              "      <td>2165.000000</td>\n",
              "      <td>3817.000000</td>\n",
              "    </tr>\n",
              "    <tr>\n",
              "      <th>mean</th>\n",
              "      <td>0.276597</td>\n",
              "      <td>0.094282</td>\n",
              "      <td>0.048361</td>\n",
              "    </tr>\n",
              "    <tr>\n",
              "      <th>std</th>\n",
              "      <td>0.229987</td>\n",
              "      <td>0.174185</td>\n",
              "      <td>0.107531</td>\n",
              "    </tr>\n",
              "    <tr>\n",
              "      <th>min</th>\n",
              "      <td>0.000000</td>\n",
              "      <td>0.000000</td>\n",
              "      <td>0.000000</td>\n",
              "    </tr>\n",
              "    <tr>\n",
              "      <th>25%</th>\n",
              "      <td>0.083333</td>\n",
              "      <td>0.000000</td>\n",
              "      <td>0.000000</td>\n",
              "    </tr>\n",
              "    <tr>\n",
              "      <th>50%</th>\n",
              "      <td>0.250000</td>\n",
              "      <td>0.000000</td>\n",
              "      <td>0.000000</td>\n",
              "    </tr>\n",
              "    <tr>\n",
              "      <th>75%</th>\n",
              "      <td>0.416667</td>\n",
              "      <td>0.125000</td>\n",
              "      <td>0.000000</td>\n",
              "    </tr>\n",
              "    <tr>\n",
              "      <th>max</th>\n",
              "      <td>1.100000</td>\n",
              "      <td>1.500000</td>\n",
              "      <td>1.000000</td>\n",
              "    </tr>\n",
              "  </tbody>\n",
              "</table>\n",
              "</div>"
            ],
            "text/plain": [
              "cluster labels            0            1            2\n",
              "count           2967.000000  2165.000000  3817.000000\n",
              "mean               0.276597     0.094282     0.048361\n",
              "std                0.229987     0.174185     0.107531\n",
              "min                0.000000     0.000000     0.000000\n",
              "25%                0.083333     0.000000     0.000000\n",
              "50%                0.250000     0.000000     0.000000\n",
              "75%                0.416667     0.125000     0.000000\n",
              "max                1.100000     1.500000     1.000000"
            ]
          },
          "metadata": {
            "tags": []
          },
          "execution_count": 63
        }
      ]
    },
    {
      "cell_type": "code",
      "metadata": {
        "colab": {
          "base_uri": "https://localhost:8080/",
          "height": 297
        },
        "id": "oJyIHGNI2DQj",
        "outputId": "456d9159-2d83-44dd-e838-9a798979fad5"
      },
      "source": [
        "data.groupby('cluster labels').CASH_ADVANCE_TRX.describe().T"
      ],
      "execution_count": 64,
      "outputs": [
        {
          "output_type": "execute_result",
          "data": {
            "text/html": [
              "<div>\n",
              "<style scoped>\n",
              "    .dataframe tbody tr th:only-of-type {\n",
              "        vertical-align: middle;\n",
              "    }\n",
              "\n",
              "    .dataframe tbody tr th {\n",
              "        vertical-align: top;\n",
              "    }\n",
              "\n",
              "    .dataframe thead th {\n",
              "        text-align: right;\n",
              "    }\n",
              "</style>\n",
              "<table border=\"1\" class=\"dataframe\">\n",
              "  <thead>\n",
              "    <tr style=\"text-align: right;\">\n",
              "      <th>cluster labels</th>\n",
              "      <th>0</th>\n",
              "      <th>1</th>\n",
              "      <th>2</th>\n",
              "    </tr>\n",
              "  </thead>\n",
              "  <tbody>\n",
              "    <tr>\n",
              "      <th>count</th>\n",
              "      <td>2967.000000</td>\n",
              "      <td>2165.000000</td>\n",
              "      <td>3817.000000</td>\n",
              "    </tr>\n",
              "    <tr>\n",
              "      <th>mean</th>\n",
              "      <td>7.286148</td>\n",
              "      <td>1.752425</td>\n",
              "      <td>0.959916</td>\n",
              "    </tr>\n",
              "    <tr>\n",
              "      <th>std</th>\n",
              "      <td>9.912770</td>\n",
              "      <td>3.600633</td>\n",
              "      <td>2.512592</td>\n",
              "    </tr>\n",
              "    <tr>\n",
              "      <th>min</th>\n",
              "      <td>0.000000</td>\n",
              "      <td>0.000000</td>\n",
              "      <td>0.000000</td>\n",
              "    </tr>\n",
              "    <tr>\n",
              "      <th>25%</th>\n",
              "      <td>1.000000</td>\n",
              "      <td>0.000000</td>\n",
              "      <td>0.000000</td>\n",
              "    </tr>\n",
              "    <tr>\n",
              "      <th>50%</th>\n",
              "      <td>4.000000</td>\n",
              "      <td>0.000000</td>\n",
              "      <td>0.000000</td>\n",
              "    </tr>\n",
              "    <tr>\n",
              "      <th>75%</th>\n",
              "      <td>10.000000</td>\n",
              "      <td>2.000000</td>\n",
              "      <td>0.000000</td>\n",
              "    </tr>\n",
              "    <tr>\n",
              "      <th>max</th>\n",
              "      <td>123.000000</td>\n",
              "      <td>26.000000</td>\n",
              "      <td>48.000000</td>\n",
              "    </tr>\n",
              "  </tbody>\n",
              "</table>\n",
              "</div>"
            ],
            "text/plain": [
              "cluster labels            0            1            2\n",
              "count           2967.000000  2165.000000  3817.000000\n",
              "mean               7.286148     1.752425     0.959916\n",
              "std                9.912770     3.600633     2.512592\n",
              "min                0.000000     0.000000     0.000000\n",
              "25%                1.000000     0.000000     0.000000\n",
              "50%                4.000000     0.000000     0.000000\n",
              "75%               10.000000     2.000000     0.000000\n",
              "max              123.000000    26.000000    48.000000"
            ]
          },
          "metadata": {
            "tags": []
          },
          "execution_count": 64
        }
      ]
    },
    {
      "cell_type": "code",
      "metadata": {
        "colab": {
          "base_uri": "https://localhost:8080/",
          "height": 297
        },
        "id": "xjT_U-Y82DL1",
        "outputId": "1abebf77-5999-43a5-d988-c40fcf0e25e3"
      },
      "source": [
        "data.groupby('cluster labels').CREDIT_LIMIT.describe().T"
      ],
      "execution_count": 65,
      "outputs": [
        {
          "output_type": "execute_result",
          "data": {
            "text/html": [
              "<div>\n",
              "<style scoped>\n",
              "    .dataframe tbody tr th:only-of-type {\n",
              "        vertical-align: middle;\n",
              "    }\n",
              "\n",
              "    .dataframe tbody tr th {\n",
              "        vertical-align: top;\n",
              "    }\n",
              "\n",
              "    .dataframe thead th {\n",
              "        text-align: right;\n",
              "    }\n",
              "</style>\n",
              "<table border=\"1\" class=\"dataframe\">\n",
              "  <thead>\n",
              "    <tr style=\"text-align: right;\">\n",
              "      <th>cluster labels</th>\n",
              "      <th>0</th>\n",
              "      <th>1</th>\n",
              "      <th>2</th>\n",
              "    </tr>\n",
              "  </thead>\n",
              "  <tbody>\n",
              "    <tr>\n",
              "      <th>count</th>\n",
              "      <td>2967.000000</td>\n",
              "      <td>2165.000000</td>\n",
              "      <td>3817.000000</td>\n",
              "    </tr>\n",
              "    <tr>\n",
              "      <th>mean</th>\n",
              "      <td>5041.951875</td>\n",
              "      <td>3363.913267</td>\n",
              "      <td>4710.108645</td>\n",
              "    </tr>\n",
              "    <tr>\n",
              "      <th>std</th>\n",
              "      <td>3699.782297</td>\n",
              "      <td>2920.167591</td>\n",
              "      <td>3816.865666</td>\n",
              "    </tr>\n",
              "    <tr>\n",
              "      <th>min</th>\n",
              "      <td>50.000000</td>\n",
              "      <td>150.000000</td>\n",
              "      <td>300.000000</td>\n",
              "    </tr>\n",
              "    <tr>\n",
              "      <th>25%</th>\n",
              "      <td>2000.000000</td>\n",
              "      <td>1500.000000</td>\n",
              "      <td>1700.000000</td>\n",
              "    </tr>\n",
              "    <tr>\n",
              "      <th>50%</th>\n",
              "      <td>4000.000000</td>\n",
              "      <td>2500.000000</td>\n",
              "      <td>3500.000000</td>\n",
              "    </tr>\n",
              "    <tr>\n",
              "      <th>75%</th>\n",
              "      <td>7500.000000</td>\n",
              "      <td>4000.000000</td>\n",
              "      <td>6500.000000</td>\n",
              "    </tr>\n",
              "    <tr>\n",
              "      <th>max</th>\n",
              "      <td>21500.000000</td>\n",
              "      <td>23000.000000</td>\n",
              "      <td>30000.000000</td>\n",
              "    </tr>\n",
              "  </tbody>\n",
              "</table>\n",
              "</div>"
            ],
            "text/plain": [
              "cluster labels             0             1             2\n",
              "count            2967.000000   2165.000000   3817.000000\n",
              "mean             5041.951875   3363.913267   4710.108645\n",
              "std              3699.782297   2920.167591   3816.865666\n",
              "min                50.000000    150.000000    300.000000\n",
              "25%              2000.000000   1500.000000   1700.000000\n",
              "50%              4000.000000   2500.000000   3500.000000\n",
              "75%              7500.000000   4000.000000   6500.000000\n",
              "max             21500.000000  23000.000000  30000.000000"
            ]
          },
          "metadata": {
            "tags": []
          },
          "execution_count": 65
        }
      ]
    },
    {
      "cell_type": "code",
      "metadata": {
        "colab": {
          "base_uri": "https://localhost:8080/",
          "height": 297
        },
        "id": "WCj2R_oE2DHt",
        "outputId": "fbd1e14c-01dc-4d1d-bdcf-167e257dc5dc"
      },
      "source": [
        "data.groupby('cluster labels').PAYMENTS.describe().T"
      ],
      "execution_count": 66,
      "outputs": [
        {
          "output_type": "execute_result",
          "data": {
            "text/html": [
              "<div>\n",
              "<style scoped>\n",
              "    .dataframe tbody tr th:only-of-type {\n",
              "        vertical-align: middle;\n",
              "    }\n",
              "\n",
              "    .dataframe tbody tr th {\n",
              "        vertical-align: top;\n",
              "    }\n",
              "\n",
              "    .dataframe thead th {\n",
              "        text-align: right;\n",
              "    }\n",
              "</style>\n",
              "<table border=\"1\" class=\"dataframe\">\n",
              "  <thead>\n",
              "    <tr style=\"text-align: right;\">\n",
              "      <th>cluster labels</th>\n",
              "      <th>0</th>\n",
              "      <th>1</th>\n",
              "      <th>2</th>\n",
              "    </tr>\n",
              "  </thead>\n",
              "  <tbody>\n",
              "    <tr>\n",
              "      <th>count</th>\n",
              "      <td>2967.000000</td>\n",
              "      <td>2165.000000</td>\n",
              "      <td>3817.000000</td>\n",
              "    </tr>\n",
              "    <tr>\n",
              "      <th>mean</th>\n",
              "      <td>1996.315980</td>\n",
              "      <td>1008.122135</td>\n",
              "      <td>1940.260545</td>\n",
              "    </tr>\n",
              "    <tr>\n",
              "      <th>std</th>\n",
              "      <td>2928.269064</td>\n",
              "      <td>2403.657300</td>\n",
              "      <td>3052.624137</td>\n",
              "    </tr>\n",
              "    <tr>\n",
              "      <th>min</th>\n",
              "      <td>0.000000</td>\n",
              "      <td>0.000000</td>\n",
              "      <td>0.000000</td>\n",
              "    </tr>\n",
              "    <tr>\n",
              "      <th>25%</th>\n",
              "      <td>535.818262</td>\n",
              "      <td>182.462948</td>\n",
              "      <td>495.427538</td>\n",
              "    </tr>\n",
              "    <tr>\n",
              "      <th>50%</th>\n",
              "      <td>1071.874614</td>\n",
              "      <td>388.040315</td>\n",
              "      <td>1074.956132</td>\n",
              "    </tr>\n",
              "    <tr>\n",
              "      <th>75%</th>\n",
              "      <td>2161.148132</td>\n",
              "      <td>901.464465</td>\n",
              "      <td>2238.594868</td>\n",
              "    </tr>\n",
              "    <tr>\n",
              "      <th>max</th>\n",
              "      <td>39048.597620</td>\n",
              "      <td>40627.595240</td>\n",
              "      <td>50721.483360</td>\n",
              "    </tr>\n",
              "  </tbody>\n",
              "</table>\n",
              "</div>"
            ],
            "text/plain": [
              "cluster labels             0             1             2\n",
              "count            2967.000000   2165.000000   3817.000000\n",
              "mean             1996.315980   1008.122135   1940.260545\n",
              "std              2928.269064   2403.657300   3052.624137\n",
              "min                 0.000000      0.000000      0.000000\n",
              "25%               535.818262    182.462948    495.427538\n",
              "50%              1071.874614    388.040315   1074.956132\n",
              "75%              2161.148132    901.464465   2238.594868\n",
              "max             39048.597620  40627.595240  50721.483360"
            ]
          },
          "metadata": {
            "tags": []
          },
          "execution_count": 66
        }
      ]
    },
    {
      "cell_type": "code",
      "metadata": {
        "colab": {
          "base_uri": "https://localhost:8080/",
          "height": 297
        },
        "id": "u4AJxU_U2DDD",
        "outputId": "e30ed64a-5041-4839-9021-bd40c1fda68a"
      },
      "source": [
        "data.groupby('cluster labels').MINIMUM_PAYMENTS.describe().T"
      ],
      "execution_count": 67,
      "outputs": [
        {
          "output_type": "execute_result",
          "data": {
            "text/html": [
              "<div>\n",
              "<style scoped>\n",
              "    .dataframe tbody tr th:only-of-type {\n",
              "        vertical-align: middle;\n",
              "    }\n",
              "\n",
              "    .dataframe tbody tr th {\n",
              "        vertical-align: top;\n",
              "    }\n",
              "\n",
              "    .dataframe thead th {\n",
              "        text-align: right;\n",
              "    }\n",
              "</style>\n",
              "<table border=\"1\" class=\"dataframe\">\n",
              "  <thead>\n",
              "    <tr style=\"text-align: right;\">\n",
              "      <th>cluster labels</th>\n",
              "      <th>0</th>\n",
              "      <th>1</th>\n",
              "      <th>2</th>\n",
              "    </tr>\n",
              "  </thead>\n",
              "  <tbody>\n",
              "    <tr>\n",
              "      <th>count</th>\n",
              "      <td>2967.000000</td>\n",
              "      <td>2165.000000</td>\n",
              "      <td>3817.000000</td>\n",
              "    </tr>\n",
              "    <tr>\n",
              "      <th>mean</th>\n",
              "      <td>1527.046225</td>\n",
              "      <td>302.928854</td>\n",
              "      <td>608.861986</td>\n",
              "    </tr>\n",
              "    <tr>\n",
              "      <th>std</th>\n",
              "      <td>3728.309804</td>\n",
              "      <td>567.161198</td>\n",
              "      <td>1129.986329</td>\n",
              "    </tr>\n",
              "    <tr>\n",
              "      <th>min</th>\n",
              "      <td>0.000000</td>\n",
              "      <td>0.000000</td>\n",
              "      <td>0.000000</td>\n",
              "    </tr>\n",
              "    <tr>\n",
              "      <th>25%</th>\n",
              "      <td>339.679605</td>\n",
              "      <td>81.595815</td>\n",
              "      <td>162.966327</td>\n",
              "    </tr>\n",
              "    <tr>\n",
              "      <th>50%</th>\n",
              "      <td>681.959088</td>\n",
              "      <td>162.398092</td>\n",
              "      <td>204.477134</td>\n",
              "    </tr>\n",
              "    <tr>\n",
              "      <th>75%</th>\n",
              "      <td>1431.555478</td>\n",
              "      <td>325.882925</td>\n",
              "      <td>617.994101</td>\n",
              "    </tr>\n",
              "    <tr>\n",
              "      <th>max</th>\n",
              "      <td>76406.207520</td>\n",
              "      <td>13486.546510</td>\n",
              "      <td>18621.013310</td>\n",
              "    </tr>\n",
              "  </tbody>\n",
              "</table>\n",
              "</div>"
            ],
            "text/plain": [
              "cluster labels             0             1             2\n",
              "count            2967.000000   2165.000000   3817.000000\n",
              "mean             1527.046225    302.928854    608.861986\n",
              "std              3728.309804    567.161198   1129.986329\n",
              "min                 0.000000      0.000000      0.000000\n",
              "25%               339.679605     81.595815    162.966327\n",
              "50%               681.959088    162.398092    204.477134\n",
              "75%              1431.555478    325.882925    617.994101\n",
              "max             76406.207520  13486.546510  18621.013310"
            ]
          },
          "metadata": {
            "tags": []
          },
          "execution_count": 67
        }
      ]
    },
    {
      "cell_type": "code",
      "metadata": {
        "colab": {
          "base_uri": "https://localhost:8080/",
          "height": 297
        },
        "id": "xwjeWZY-2C_H",
        "outputId": "3b16fad3-3ceb-4653-a18f-66856405b77b"
      },
      "source": [
        "data.groupby('cluster labels').PRC_FULL_PAYMENT.describe().T"
      ],
      "execution_count": 68,
      "outputs": [
        {
          "output_type": "execute_result",
          "data": {
            "text/html": [
              "<div>\n",
              "<style scoped>\n",
              "    .dataframe tbody tr th:only-of-type {\n",
              "        vertical-align: middle;\n",
              "    }\n",
              "\n",
              "    .dataframe tbody tr th {\n",
              "        vertical-align: top;\n",
              "    }\n",
              "\n",
              "    .dataframe thead th {\n",
              "        text-align: right;\n",
              "    }\n",
              "</style>\n",
              "<table border=\"1\" class=\"dataframe\">\n",
              "  <thead>\n",
              "    <tr style=\"text-align: right;\">\n",
              "      <th>cluster labels</th>\n",
              "      <th>0</th>\n",
              "      <th>1</th>\n",
              "      <th>2</th>\n",
              "    </tr>\n",
              "  </thead>\n",
              "  <tbody>\n",
              "    <tr>\n",
              "      <th>count</th>\n",
              "      <td>2967.000000</td>\n",
              "      <td>2165.000000</td>\n",
              "      <td>3817.000000</td>\n",
              "    </tr>\n",
              "    <tr>\n",
              "      <th>mean</th>\n",
              "      <td>0.027369</td>\n",
              "      <td>0.064353</td>\n",
              "      <td>0.302651</td>\n",
              "    </tr>\n",
              "    <tr>\n",
              "      <th>std</th>\n",
              "      <td>0.078508</td>\n",
              "      <td>0.145677</td>\n",
              "      <td>0.380365</td>\n",
              "    </tr>\n",
              "    <tr>\n",
              "      <th>min</th>\n",
              "      <td>0.000000</td>\n",
              "      <td>0.000000</td>\n",
              "      <td>0.000000</td>\n",
              "    </tr>\n",
              "    <tr>\n",
              "      <th>25%</th>\n",
              "      <td>0.000000</td>\n",
              "      <td>0.000000</td>\n",
              "      <td>0.000000</td>\n",
              "    </tr>\n",
              "    <tr>\n",
              "      <th>50%</th>\n",
              "      <td>0.000000</td>\n",
              "      <td>0.000000</td>\n",
              "      <td>0.083333</td>\n",
              "    </tr>\n",
              "    <tr>\n",
              "      <th>75%</th>\n",
              "      <td>0.000000</td>\n",
              "      <td>0.000000</td>\n",
              "      <td>0.636364</td>\n",
              "    </tr>\n",
              "    <tr>\n",
              "      <th>max</th>\n",
              "      <td>0.916667</td>\n",
              "      <td>1.000000</td>\n",
              "      <td>1.000000</td>\n",
              "    </tr>\n",
              "  </tbody>\n",
              "</table>\n",
              "</div>"
            ],
            "text/plain": [
              "cluster labels            0            1            2\n",
              "count           2967.000000  2165.000000  3817.000000\n",
              "mean               0.027369     0.064353     0.302651\n",
              "std                0.078508     0.145677     0.380365\n",
              "min                0.000000     0.000000     0.000000\n",
              "25%                0.000000     0.000000     0.000000\n",
              "50%                0.000000     0.000000     0.083333\n",
              "75%                0.000000     0.000000     0.636364\n",
              "max                0.916667     1.000000     1.000000"
            ]
          },
          "metadata": {
            "tags": []
          },
          "execution_count": 68
        }
      ]
    },
    {
      "cell_type": "code",
      "metadata": {
        "colab": {
          "base_uri": "https://localhost:8080/",
          "height": 297
        },
        "id": "kjBHNl4O2C6V",
        "outputId": "856f6923-becb-49d7-a0df-b6a315eb7733"
      },
      "source": [
        "data.groupby('cluster labels').TENURE.describe().T"
      ],
      "execution_count": 71,
      "outputs": [
        {
          "output_type": "execute_result",
          "data": {
            "text/html": [
              "<div>\n",
              "<style scoped>\n",
              "    .dataframe tbody tr th:only-of-type {\n",
              "        vertical-align: middle;\n",
              "    }\n",
              "\n",
              "    .dataframe tbody tr th {\n",
              "        vertical-align: top;\n",
              "    }\n",
              "\n",
              "    .dataframe thead th {\n",
              "        text-align: right;\n",
              "    }\n",
              "</style>\n",
              "<table border=\"1\" class=\"dataframe\">\n",
              "  <thead>\n",
              "    <tr style=\"text-align: right;\">\n",
              "      <th>cluster labels</th>\n",
              "      <th>0</th>\n",
              "      <th>1</th>\n",
              "      <th>2</th>\n",
              "    </tr>\n",
              "  </thead>\n",
              "  <tbody>\n",
              "    <tr>\n",
              "      <th>count</th>\n",
              "      <td>2967.000000</td>\n",
              "      <td>2165.000000</td>\n",
              "      <td>3817.000000</td>\n",
              "    </tr>\n",
              "    <tr>\n",
              "      <th>mean</th>\n",
              "      <td>11.897877</td>\n",
              "      <td>10.861432</td>\n",
              "      <td>11.594970</td>\n",
              "    </tr>\n",
              "    <tr>\n",
              "      <th>std</th>\n",
              "      <td>0.448289</td>\n",
              "      <td>1.917960</td>\n",
              "      <td>1.259952</td>\n",
              "    </tr>\n",
              "    <tr>\n",
              "      <th>min</th>\n",
              "      <td>6.000000</td>\n",
              "      <td>6.000000</td>\n",
              "      <td>6.000000</td>\n",
              "    </tr>\n",
              "    <tr>\n",
              "      <th>25%</th>\n",
              "      <td>12.000000</td>\n",
              "      <td>10.000000</td>\n",
              "      <td>12.000000</td>\n",
              "    </tr>\n",
              "    <tr>\n",
              "      <th>50%</th>\n",
              "      <td>12.000000</td>\n",
              "      <td>12.000000</td>\n",
              "      <td>12.000000</td>\n",
              "    </tr>\n",
              "    <tr>\n",
              "      <th>75%</th>\n",
              "      <td>12.000000</td>\n",
              "      <td>12.000000</td>\n",
              "      <td>12.000000</td>\n",
              "    </tr>\n",
              "    <tr>\n",
              "      <th>max</th>\n",
              "      <td>12.000000</td>\n",
              "      <td>12.000000</td>\n",
              "      <td>12.000000</td>\n",
              "    </tr>\n",
              "  </tbody>\n",
              "</table>\n",
              "</div>"
            ],
            "text/plain": [
              "cluster labels            0            1            2\n",
              "count           2967.000000  2165.000000  3817.000000\n",
              "mean              11.897877    10.861432    11.594970\n",
              "std                0.448289     1.917960     1.259952\n",
              "min                6.000000     6.000000     6.000000\n",
              "25%               12.000000    10.000000    12.000000\n",
              "50%               12.000000    12.000000    12.000000\n",
              "75%               12.000000    12.000000    12.000000\n",
              "max               12.000000    12.000000    12.000000"
            ]
          },
          "metadata": {
            "tags": []
          },
          "execution_count": 71
        }
      ]
    },
    {
      "cell_type": "markdown",
      "metadata": {
        "id": "oHJwhR41AljH"
      },
      "source": [
        "### Cluster 0:\r\n",
        "* Highest balance, followed by cluster 2.\r\n",
        "* Highest Balance_Frequency followed by cluster 2\r\n",
        "* Highest cash advance, followed by cluster 1\r\n",
        "* Highest cash advance frequency, followed by cluster 1\r\n",
        "* Highest Cash advance trx, followed by cluster 1\r\n",
        "* Highest Credit limit, followed by cluster 2\r\n",
        "* Highest Payments, followed closely by cluster 2\r\n",
        "* Highest minimum payments, followed by cluster 2\r\n",
        "\r\n",
        "### Cluster 2:\r\n",
        "* Highest Purchases, followed by cluster 0. (Has outliers in it)\r\n",
        "* Highest purchase frequency, followed by cluster 1\r\n",
        "* Highest One_Off_Purchases, followed by cluster 0\r\n",
        "* Highest One off purchases frequency, followed by cluster 0\r\n",
        "* Highest Installment Purchases, followed by cluster 0\r\n",
        "* Highest installment purchases frequency, followed by cluster 1.\r\n",
        "* Highest percentage full payment, followed by cluster 1\r\n",
        "Tenure is similar for all clusters\r\n",
        "\r\n",
        "### Conclusions:\r\n",
        "Cluster 0 has people with the most money, more amount than volume of purchases and higher but not complete payments.\r\n",
        "\r\n",
        "Cluster 2 has the most active users, lots of purchases and highest full payments, lower balances and limits than cluster 0.\r\n",
        "\r\n",
        "Cluster 1 is people with the lowest balances and less active, second with cash advances probably to pay off bills.\r\n",
        "\r\n",
        "### Initial Strategies:\r\n",
        "Incentivize people in cluster 0 to put more money into the bank by increasing yields.\r\n",
        "\r\n",
        "For people in cluster 2, decrease interest rates to increase spending.\r\n",
        "\r\n",
        "For people in cluster 1, offer financial advice and management to keep them as customers."
      ]
    }
  ]
}